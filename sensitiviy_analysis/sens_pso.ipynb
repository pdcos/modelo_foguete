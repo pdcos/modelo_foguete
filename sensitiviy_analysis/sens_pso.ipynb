{
 "cells": [
  {
   "cell_type": "code",
   "execution_count": 1,
   "metadata": {},
   "outputs": [],
   "source": [
    "import sys\n",
    "sys.path.append('../')\n",
    "from optm_algorithms.pso import PSO\n",
    "from optm_algorithms.differential_evolution import DifferentialEvolutionAlgorithm\n",
    "\n",
    "from fitness_function import RocketFitness, bound_values, fitness_func\n",
    "import numpy as np\n",
    "import warnings\n",
    "from tqdm import tqdm\n",
    "import json\n"
   ]
  },
  {
   "cell_type": "code",
   "execution_count": 2,
   "metadata": {},
   "outputs": [],
   "source": [
    "# Inicializando função de fitness\n",
    "rocket_fitness = RocketFitness(bound_values, num_workers=2)\n",
    "random_values = np.random.rand(10,10)\n",
    "fitness_func_class = rocket_fitness.calc_fitness\n"
   ]
  },
  {
   "cell_type": "markdown",
   "metadata": {},
   "source": [
    "# Análise de Sensibilidade do PSO\n",
    "\n",
    "Hiperparâmetros a serem otimizados:\n",
    "- global_factor\n",
    "- speed_factor\n",
    "- v_max\n",
    "\n",
    "Condições:\n",
    "- local_factor + global_factor > 4\n",
    "- todos os hiperparâmetros são maiores que zero"
   ]
  },
  {
   "cell_type": "code",
   "execution_count": 3,
   "metadata": {},
   "outputs": [],
   "source": [
    "global_factor_list = np.linspace(1, 6, 5)\n",
    "local_factor_list = np.linspace(1, 6, 5)\n",
    "v_max = np.linspace(1,10,5)\n",
    "grid1, grid2, grid3 = np.meshgrid(global_factor_list, local_factor_list, v_max)\n",
    "\n",
    "combinations = np.vstack((grid1.ravel(), grid2.ravel(), grid3.ravel())).T\n",
    "sum_of_columns = combinations[:, 0] + combinations[:, 1]\n",
    "\n",
    "# Use logical indexing to select rows where the sum of the first and second columns is greater than 4\n",
    "combinations = combinations[sum_of_columns > 4]\n"
   ]
  },
  {
   "cell_type": "code",
   "execution_count": 4,
   "metadata": {},
   "outputs": [
    {
     "data": {
      "text/plain": [
       "(110, 3)"
      ]
     },
     "execution_count": 4,
     "metadata": {},
     "output_type": "execute_result"
    }
   ],
   "source": [
    "combinations.shape"
   ]
  },
  {
   "cell_type": "code",
   "execution_count": 5,
   "metadata": {},
   "outputs": [
    {
     "name": "stderr",
     "output_type": "stream",
     "text": [
      "  0%|          | 0/110 [00:00<?, ?it/s]"
     ]
    },
    {
     "name": "stderr",
     "output_type": "stream",
     "text": []
    },
    {
     "name": "stdout",
     "output_type": "stream",
     "text": [
      "Epoch 0: Best: 0.5688369478323626, Average: 0.21585542982278935\n"
     ]
    },
    {
     "name": "stderr",
     "output_type": "stream",
     "text": [
      "100%|██████████| 100/100 [04:12<00:00,  2.52s/it]\n",
      "  1%|          | 1/110 [04:16<7:46:04, 256.56s/it]"
     ]
    },
    {
     "name": "stdout",
     "output_type": "stream",
     "text": [
      "--- 256.55598187446594 seconds ---\n"
     ]
    },
    {
     "name": "stderr",
     "output_type": "stream",
     "text": []
    },
    {
     "name": "stdout",
     "output_type": "stream",
     "text": [
      "Epoch 0: Best: 0.5688369478323626, Average: 0.21585542982278935\n"
     ]
    },
    {
     "name": "stderr",
     "output_type": "stream",
     "text": [
      "100%|██████████| 100/100 [03:22<00:00,  2.02s/it]\n",
      "  2%|▏         | 2/110 [07:41<6:46:49, 226.02s/it]"
     ]
    },
    {
     "name": "stdout",
     "output_type": "stream",
     "text": [
      "--- 204.6386251449585 seconds ---\n"
     ]
    },
    {
     "name": "stderr",
     "output_type": "stream",
     "text": []
    },
    {
     "name": "stdout",
     "output_type": "stream",
     "text": [
      "Epoch 0: Best: 0.5688369478323626, Average: 0.21585542982278935\n"
     ]
    },
    {
     "name": "stderr",
     "output_type": "stream",
     "text": [
      "100%|██████████| 100/100 [04:02<00:00,  2.43s/it]\n",
      "  3%|▎         | 3/110 [11:46<6:58:29, 234.67s/it]"
     ]
    },
    {
     "name": "stdout",
     "output_type": "stream",
     "text": [
      "--- 244.960275888443 seconds ---\n"
     ]
    },
    {
     "name": "stderr",
     "output_type": "stream",
     "text": []
    },
    {
     "name": "stdout",
     "output_type": "stream",
     "text": [
      "Epoch 0: Best: 0.5688369478323626, Average: 0.21585542982278935\n"
     ]
    },
    {
     "name": "stderr",
     "output_type": "stream",
     "text": [
      "100%|██████████| 100/100 [03:54<00:00,  2.34s/it]\n",
      "  4%|▎         | 4/110 [15:43<6:56:11, 235.58s/it]"
     ]
    },
    {
     "name": "stdout",
     "output_type": "stream",
     "text": [
      "--- 236.97235107421875 seconds ---\n"
     ]
    },
    {
     "name": "stderr",
     "output_type": "stream",
     "text": []
    },
    {
     "name": "stdout",
     "output_type": "stream",
     "text": [
      "Epoch 0: Best: 0.5688369478323626, Average: 0.21585542982278935\n"
     ]
    },
    {
     "name": "stderr",
     "output_type": "stream",
     "text": [
      "100%|██████████| 100/100 [03:47<00:00,  2.27s/it]\n",
      "  5%|▍         | 5/110 [19:32<6:48:27, 233.40s/it]"
     ]
    },
    {
     "name": "stdout",
     "output_type": "stream",
     "text": [
      "--- 229.5441710948944 seconds ---\n"
     ]
    },
    {
     "name": "stderr",
     "output_type": "stream",
     "text": []
    },
    {
     "name": "stdout",
     "output_type": "stream",
     "text": [
      "Epoch 0: Best: 0.5688369478323626, Average: 0.21585542982278935\n"
     ]
    },
    {
     "name": "stderr",
     "output_type": "stream",
     "text": [
      "100%|██████████| 100/100 [03:28<00:00,  2.08s/it]\n",
      "  5%|▌         | 6/110 [23:03<6:31:15, 225.72s/it]"
     ]
    },
    {
     "name": "stdout",
     "output_type": "stream",
     "text": [
      "--- 210.81596326828003 seconds ---\n"
     ]
    },
    {
     "name": "stderr",
     "output_type": "stream",
     "text": []
    },
    {
     "name": "stdout",
     "output_type": "stream",
     "text": [
      "Epoch 0: Best: 0.5688369478323626, Average: 0.21585542982278935\n"
     ]
    },
    {
     "name": "stderr",
     "output_type": "stream",
     "text": [
      "100%|██████████| 100/100 [03:21<00:00,  2.02s/it]\n",
      "  6%|▋         | 7/110 [26:27<6:15:31, 218.75s/it]"
     ]
    },
    {
     "name": "stdout",
     "output_type": "stream",
     "text": [
      "--- 204.38847613334656 seconds ---\n"
     ]
    },
    {
     "name": "stderr",
     "output_type": "stream",
     "text": []
    },
    {
     "name": "stdout",
     "output_type": "stream",
     "text": [
      "Epoch 0: Best: 0.5688369478323626, Average: 0.21585542982278935\n"
     ]
    },
    {
     "name": "stderr",
     "output_type": "stream",
     "text": [
      "100%|██████████| 100/100 [04:05<00:00,  2.46s/it]\n",
      "  7%|▋         | 8/110 [30:36<6:27:52, 228.16s/it]"
     ]
    },
    {
     "name": "stdout",
     "output_type": "stream",
     "text": [
      "--- 248.30231308937073 seconds ---\n"
     ]
    },
    {
     "name": "stderr",
     "output_type": "stream",
     "text": []
    },
    {
     "name": "stdout",
     "output_type": "stream",
     "text": [
      "Epoch 0: Best: 0.5688369478323626, Average: 0.21585542982278935\n"
     ]
    },
    {
     "name": "stderr",
     "output_type": "stream",
     "text": [
      "100%|██████████| 100/100 [03:46<00:00,  2.27s/it]\n",
      "  8%|▊         | 9/110 [34:25<6:24:39, 228.51s/it]"
     ]
    },
    {
     "name": "stdout",
     "output_type": "stream",
     "text": [
      "--- 229.29381608963013 seconds ---\n"
     ]
    },
    {
     "name": "stderr",
     "output_type": "stream",
     "text": []
    },
    {
     "name": "stdout",
     "output_type": "stream",
     "text": [
      "Epoch 0: Best: 0.5688369478323626, Average: 0.21585542982278935\n"
     ]
    },
    {
     "name": "stderr",
     "output_type": "stream",
     "text": [
      "100%|██████████| 100/100 [04:07<00:00,  2.47s/it]\n",
      "  9%|▉         | 10/110 [38:35<6:31:40, 235.01s/it]"
     ]
    },
    {
     "name": "stdout",
     "output_type": "stream",
     "text": [
      "--- 249.55131816864014 seconds ---\n"
     ]
    },
    {
     "name": "stderr",
     "output_type": "stream",
     "text": []
    },
    {
     "name": "stdout",
     "output_type": "stream",
     "text": [
      "Epoch 0: Best: 0.5688369478323626, Average: 0.21585542982278935\n"
     ]
    },
    {
     "name": "stderr",
     "output_type": "stream",
     "text": [
      "100%|██████████| 100/100 [03:56<00:00,  2.36s/it]\n",
      " 10%|█         | 11/110 [42:33<6:29:38, 236.15s/it]"
     ]
    },
    {
     "name": "stdout",
     "output_type": "stream",
     "text": [
      "--- 238.7410171031952 seconds ---\n"
     ]
    },
    {
     "name": "stderr",
     "output_type": "stream",
     "text": []
    },
    {
     "name": "stdout",
     "output_type": "stream",
     "text": [
      "Epoch 0: Best: 0.5688369478323626, Average: 0.21585542982278935\n"
     ]
    },
    {
     "name": "stderr",
     "output_type": "stream",
     "text": [
      "100%|██████████| 100/100 [04:03<00:00,  2.43s/it]\n",
      " 11%|█         | 12/110 [46:39<6:30:28, 239.07s/it]"
     ]
    },
    {
     "name": "stdout",
     "output_type": "stream",
     "text": [
      "--- 245.73114609718323 seconds ---\n"
     ]
    },
    {
     "name": "stderr",
     "output_type": "stream",
     "text": []
    },
    {
     "name": "stdout",
     "output_type": "stream",
     "text": [
      "Epoch 0: Best: 0.5688369478323626, Average: 0.21585542982278935\n"
     ]
    },
    {
     "name": "stderr",
     "output_type": "stream",
     "text": [
      "100%|██████████| 100/100 [03:27<00:00,  2.08s/it]\n",
      " 12%|█▏        | 13/110 [50:09<6:12:21, 230.32s/it]"
     ]
    },
    {
     "name": "stdout",
     "output_type": "stream",
     "text": [
      "--- 210.20097303390503 seconds ---\n"
     ]
    },
    {
     "name": "stderr",
     "output_type": "stream",
     "text": []
    },
    {
     "name": "stdout",
     "output_type": "stream",
     "text": [
      "Epoch 0: Best: 0.5688369478323626, Average: 0.21585542982278935\n"
     ]
    },
    {
     "name": "stderr",
     "output_type": "stream",
     "text": [
      "100%|██████████| 100/100 [03:42<00:00,  2.22s/it]\n",
      " 13%|█▎        | 14/110 [53:54<6:05:42, 228.57s/it]"
     ]
    },
    {
     "name": "stdout",
     "output_type": "stream",
     "text": [
      "--- 224.5104422569275 seconds ---\n"
     ]
    },
    {
     "name": "stderr",
     "output_type": "stream",
     "text": []
    },
    {
     "name": "stdout",
     "output_type": "stream",
     "text": [
      "Epoch 0: Best: 0.5688369478323626, Average: 0.21585542982278935\n"
     ]
    },
    {
     "name": "stderr",
     "output_type": "stream",
     "text": [
      "100%|██████████| 100/100 [04:07<00:00,  2.48s/it]\n",
      " 14%|█▎        | 15/110 [58:04<6:12:20, 235.17s/it]"
     ]
    },
    {
     "name": "stdout",
     "output_type": "stream",
     "text": [
      "--- 250.46641492843628 seconds ---\n"
     ]
    },
    {
     "name": "stderr",
     "output_type": "stream",
     "text": []
    },
    {
     "name": "stdout",
     "output_type": "stream",
     "text": [
      "Epoch 0: Best: 0.5688369478323626, Average: 0.21585542982278935\n"
     ]
    },
    {
     "name": "stderr",
     "output_type": "stream",
     "text": [
      "100%|██████████| 100/100 [03:20<00:00,  2.00s/it]\n",
      " 15%|█▍        | 16/110 [1:01:27<5:52:57, 225.30s/it]"
     ]
    },
    {
     "name": "stdout",
     "output_type": "stream",
     "text": [
      "--- 202.36918783187866 seconds ---\n"
     ]
    },
    {
     "name": "stderr",
     "output_type": "stream",
     "text": []
    },
    {
     "name": "stdout",
     "output_type": "stream",
     "text": [
      "Epoch 0: Best: 0.5688369478323626, Average: 0.21585542982278935\n"
     ]
    },
    {
     "name": "stderr",
     "output_type": "stream",
     "text": [
      "100%|██████████| 100/100 [03:23<00:00,  2.03s/it]\n",
      " 15%|█▌        | 17/110 [1:04:52<5:39:59, 219.34s/it]"
     ]
    },
    {
     "name": "stdout",
     "output_type": "stream",
     "text": [
      "--- 205.50506114959717 seconds ---\n"
     ]
    },
    {
     "name": "stderr",
     "output_type": "stream",
     "text": []
    },
    {
     "name": "stdout",
     "output_type": "stream",
     "text": [
      "Epoch 0: Best: 0.5688369478323626, Average: 0.21585542982278935\n"
     ]
    },
    {
     "name": "stderr",
     "output_type": "stream",
     "text": [
      "100%|██████████| 100/100 [03:33<00:00,  2.13s/it]\n",
      " 16%|█▋        | 18/110 [1:08:28<5:34:40, 218.27s/it]"
     ]
    },
    {
     "name": "stdout",
     "output_type": "stream",
     "text": [
      "--- 215.77114915847778 seconds ---\n"
     ]
    },
    {
     "name": "stderr",
     "output_type": "stream",
     "text": []
    },
    {
     "name": "stdout",
     "output_type": "stream",
     "text": [
      "Epoch 0: Best: 0.5688369478323626, Average: 0.21585542982278935\n"
     ]
    },
    {
     "name": "stderr",
     "output_type": "stream",
     "text": [
      "100%|██████████| 100/100 [03:23<00:00,  2.03s/it]\n",
      " 17%|█▋        | 19/110 [1:11:53<5:25:12, 214.42s/it]"
     ]
    },
    {
     "name": "stdout",
     "output_type": "stream",
     "text": [
      "--- 205.45520091056824 seconds ---\n"
     ]
    },
    {
     "name": "stderr",
     "output_type": "stream",
     "text": []
    },
    {
     "name": "stdout",
     "output_type": "stream",
     "text": [
      "Epoch 0: Best: 0.5688369478323626, Average: 0.21585542982278935\n"
     ]
    },
    {
     "name": "stderr",
     "output_type": "stream",
     "text": [
      "100%|██████████| 100/100 [03:46<00:00,  2.26s/it]\n",
      " 18%|█▊        | 20/110 [1:15:42<5:28:09, 218.77s/it]"
     ]
    },
    {
     "name": "stdout",
     "output_type": "stream",
     "text": [
      "--- 228.8930377960205 seconds ---\n"
     ]
    },
    {
     "name": "stderr",
     "output_type": "stream",
     "text": []
    },
    {
     "name": "stdout",
     "output_type": "stream",
     "text": [
      "Epoch 0: Best: 0.5688369478323626, Average: 0.21585542982278935\n"
     ]
    },
    {
     "name": "stderr",
     "output_type": "stream",
     "text": [
      "100%|██████████| 100/100 [03:28<00:00,  2.09s/it]\n",
      " 19%|█▉        | 21/110 [1:19:13<5:21:04, 216.45s/it]"
     ]
    },
    {
     "name": "stdout",
     "output_type": "stream",
     "text": [
      "--- 211.05374789237976 seconds ---\n"
     ]
    },
    {
     "name": "stderr",
     "output_type": "stream",
     "text": []
    },
    {
     "name": "stdout",
     "output_type": "stream",
     "text": [
      "Epoch 0: Best: 0.5688369478323626, Average: 0.21585542982278935\n"
     ]
    },
    {
     "name": "stderr",
     "output_type": "stream",
     "text": [
      "100%|██████████| 100/100 [03:23<00:00,  2.03s/it]\n",
      " 20%|██        | 22/110 [1:22:39<5:12:38, 213.16s/it]"
     ]
    },
    {
     "name": "stdout",
     "output_type": "stream",
     "text": [
      "--- 205.48824906349182 seconds ---\n"
     ]
    },
    {
     "name": "stderr",
     "output_type": "stream",
     "text": []
    },
    {
     "name": "stdout",
     "output_type": "stream",
     "text": [
      "Epoch 0: Best: 0.5688369478323626, Average: 0.21585542982278935\n"
     ]
    },
    {
     "name": "stderr",
     "output_type": "stream",
     "text": [
      "100%|██████████| 100/100 [03:22<00:00,  2.03s/it]\n",
      " 21%|██        | 23/110 [1:26:04<5:05:31, 210.71s/it]"
     ]
    },
    {
     "name": "stdout",
     "output_type": "stream",
     "text": [
      "--- 204.9991991519928 seconds ---\n"
     ]
    },
    {
     "name": "stderr",
     "output_type": "stream",
     "text": []
    },
    {
     "name": "stdout",
     "output_type": "stream",
     "text": [
      "Epoch 0: Best: 0.5688369478323626, Average: 0.21585542982278935\n"
     ]
    },
    {
     "name": "stderr",
     "output_type": "stream",
     "text": [
      "100%|██████████| 100/100 [03:53<00:00,  2.34s/it]\n",
      " 22%|██▏       | 24/110 [1:30:00<5:13:05, 218.44s/it]"
     ]
    },
    {
     "name": "stdout",
     "output_type": "stream",
     "text": [
      "--- 236.45890712738037 seconds ---\n"
     ]
    },
    {
     "name": "stderr",
     "output_type": "stream",
     "text": []
    },
    {
     "name": "stdout",
     "output_type": "stream",
     "text": [
      "Epoch 0: Best: 0.5688369478323626, Average: 0.21585542982278935\n"
     ]
    },
    {
     "name": "stderr",
     "output_type": "stream",
     "text": [
      "100%|██████████| 100/100 [03:21<00:00,  2.02s/it]\n",
      " 23%|██▎       | 25/110 [1:33:24<5:03:17, 214.09s/it]"
     ]
    },
    {
     "name": "stdout",
     "output_type": "stream",
     "text": [
      "--- 203.95118498802185 seconds ---\n"
     ]
    },
    {
     "name": "stderr",
     "output_type": "stream",
     "text": []
    },
    {
     "name": "stdout",
     "output_type": "stream",
     "text": [
      "Epoch 0: Best: 0.5688369478323626, Average: 0.21585542982278935\n"
     ]
    },
    {
     "name": "stderr",
     "output_type": "stream",
     "text": [
      "100%|██████████| 100/100 [03:57<00:00,  2.38s/it]\n",
      " 24%|██▎       | 26/110 [1:37:24<5:10:44, 221.95s/it]"
     ]
    },
    {
     "name": "stdout",
     "output_type": "stream",
     "text": [
      "--- 240.29491996765137 seconds ---\n"
     ]
    },
    {
     "name": "stderr",
     "output_type": "stream",
     "text": []
    },
    {
     "name": "stdout",
     "output_type": "stream",
     "text": [
      "Epoch 0: Best: 0.5688369478323626, Average: 0.21585542982278935\n"
     ]
    },
    {
     "name": "stderr",
     "output_type": "stream",
     "text": [
      "100%|██████████| 100/100 [03:18<00:00,  1.98s/it]\n",
      " 25%|██▍       | 27/110 [1:40:45<4:58:15, 215.61s/it]"
     ]
    },
    {
     "name": "stdout",
     "output_type": "stream",
     "text": [
      "--- 200.8190357685089 seconds ---\n"
     ]
    },
    {
     "name": "stderr",
     "output_type": "stream",
     "text": []
    },
    {
     "name": "stdout",
     "output_type": "stream",
     "text": [
      "Epoch 0: Best: 0.5688369478323626, Average: 0.21585542982278935\n"
     ]
    },
    {
     "name": "stderr",
     "output_type": "stream",
     "text": [
      "100%|██████████| 100/100 [03:19<00:00,  1.99s/it]\n",
      " 25%|██▌       | 28/110 [1:44:07<4:49:01, 211.48s/it]"
     ]
    },
    {
     "name": "stdout",
     "output_type": "stream",
     "text": [
      "--- 201.84290218353271 seconds ---\n"
     ]
    },
    {
     "name": "stderr",
     "output_type": "stream",
     "text": []
    },
    {
     "name": "stdout",
     "output_type": "stream",
     "text": [
      "Epoch 0: Best: 0.5688369478323626, Average: 0.21585542982278935\n"
     ]
    },
    {
     "name": "stderr",
     "output_type": "stream",
     "text": [
      "100%|██████████| 100/100 [10:45<00:00,  6.46s/it]\n",
      " 26%|██▋       | 29/110 [1:54:55<7:42:22, 342.50s/it]"
     ]
    },
    {
     "name": "stdout",
     "output_type": "stream",
     "text": [
      "--- 648.20867395401 seconds ---\n"
     ]
    },
    {
     "name": "stderr",
     "output_type": "stream",
     "text": []
    },
    {
     "name": "stdout",
     "output_type": "stream",
     "text": [
      "Epoch 0: Best: 0.5688369478323626, Average: 0.21585542982278935\n"
     ]
    },
    {
     "name": "stderr",
     "output_type": "stream",
     "text": [
      "100%|██████████| 100/100 [12:27<00:00,  7.47s/it]\n",
      " 27%|██▋       | 30/110 [2:07:25<10:19:28, 464.60s/it]"
     ]
    },
    {
     "name": "stdout",
     "output_type": "stream",
     "text": [
      "--- 749.4864931106567 seconds ---\n"
     ]
    },
    {
     "name": "stderr",
     "output_type": "stream",
     "text": []
    },
    {
     "name": "stdout",
     "output_type": "stream",
     "text": [
      "Epoch 0: Best: 0.5688369478323626, Average: 0.21585542982278935\n"
     ]
    },
    {
     "name": "stderr",
     "output_type": "stream",
     "text": [
      "100%|██████████| 100/100 [04:41<00:00,  2.81s/it]\n",
      " 28%|██▊       | 31/110 [2:12:09<9:00:19, 410.37s/it] "
     ]
    },
    {
     "name": "stdout",
     "output_type": "stream",
     "text": [
      "--- 283.82996702194214 seconds ---\n"
     ]
    },
    {
     "name": "stderr",
     "output_type": "stream",
     "text": []
    },
    {
     "name": "stdout",
     "output_type": "stream",
     "text": [
      "Epoch 0: Best: 0.5688369478323626, Average: 0.21585542982278935\n"
     ]
    },
    {
     "name": "stderr",
     "output_type": "stream",
     "text": [
      "100%|██████████| 100/100 [03:47<00:00,  2.27s/it]\n",
      " 29%|██▉       | 32/110 [2:15:59<7:43:06, 356.24s/it]"
     ]
    },
    {
     "name": "stdout",
     "output_type": "stream",
     "text": [
      "--- 229.92470979690552 seconds ---\n"
     ]
    },
    {
     "name": "stderr",
     "output_type": "stream",
     "text": []
    },
    {
     "name": "stdout",
     "output_type": "stream",
     "text": [
      "Epoch 0: Best: 0.5688369478323626, Average: 0.21585542982278935\n"
     ]
    },
    {
     "name": "stderr",
     "output_type": "stream",
     "text": [
      "100%|██████████| 100/100 [03:47<00:00,  2.28s/it]\n",
      " 30%|███       | 33/110 [2:19:49<6:48:48, 318.55s/it]"
     ]
    },
    {
     "name": "stdout",
     "output_type": "stream",
     "text": [
      "--- 230.6213550567627 seconds ---\n"
     ]
    },
    {
     "name": "stderr",
     "output_type": "stream",
     "text": []
    },
    {
     "name": "stdout",
     "output_type": "stream",
     "text": [
      "Epoch 0: Best: 0.5688369478323626, Average: 0.21585542982278935\n"
     ]
    },
    {
     "name": "stderr",
     "output_type": "stream",
     "text": [
      "100%|██████████| 100/100 [04:21<00:00,  2.62s/it]\n",
      " 31%|███       | 34/110 [2:24:13<6:22:51, 302.26s/it]"
     ]
    },
    {
     "name": "stdout",
     "output_type": "stream",
     "text": [
      "--- 264.2513270378113 seconds ---\n"
     ]
    },
    {
     "name": "stderr",
     "output_type": "stream",
     "text": []
    },
    {
     "name": "stdout",
     "output_type": "stream",
     "text": [
      "Epoch 0: Best: 0.5688369478323626, Average: 0.21585542982278935\n"
     ]
    },
    {
     "name": "stderr",
     "output_type": "stream",
     "text": [
      "100%|██████████| 100/100 [04:20<00:00,  2.60s/it]\n",
      " 32%|███▏      | 35/110 [2:28:37<6:03:15, 290.60s/it]"
     ]
    },
    {
     "name": "stdout",
     "output_type": "stream",
     "text": [
      "--- 263.3904662132263 seconds ---\n"
     ]
    },
    {
     "name": "stderr",
     "output_type": "stream",
     "text": []
    },
    {
     "name": "stdout",
     "output_type": "stream",
     "text": [
      "Epoch 0: Best: 0.5688369478323626, Average: 0.21585542982278935\n"
     ]
    },
    {
     "name": "stderr",
     "output_type": "stream",
     "text": [
      "100%|██████████| 100/100 [04:32<00:00,  2.72s/it]\n",
      " 33%|███▎      | 36/110 [2:33:12<5:52:37, 285.92s/it]"
     ]
    },
    {
     "name": "stdout",
     "output_type": "stream",
     "text": [
      "--- 274.9921290874481 seconds ---\n"
     ]
    },
    {
     "name": "stderr",
     "output_type": "stream",
     "text": []
    },
    {
     "name": "stdout",
     "output_type": "stream",
     "text": [
      "Epoch 0: Best: 0.5688369478323626, Average: 0.21585542982278935\n"
     ]
    },
    {
     "name": "stderr",
     "output_type": "stream",
     "text": [
      "100%|██████████| 100/100 [04:03<00:00,  2.44s/it]\n",
      " 34%|███▎      | 37/110 [2:37:18<5:33:29, 274.10s/it]"
     ]
    },
    {
     "name": "stdout",
     "output_type": "stream",
     "text": [
      "--- 246.53829622268677 seconds ---\n"
     ]
    },
    {
     "name": "stderr",
     "output_type": "stream",
     "text": []
    },
    {
     "name": "stdout",
     "output_type": "stream",
     "text": [
      "Epoch 0: Best: 0.5688369478323626, Average: 0.21585542982278935\n"
     ]
    },
    {
     "name": "stderr",
     "output_type": "stream",
     "text": [
      "100%|██████████| 100/100 [04:09<00:00,  2.49s/it]\n",
      " 35%|███▍      | 38/110 [2:41:30<5:20:55, 267.44s/it]"
     ]
    },
    {
     "name": "stdout",
     "output_type": "stream",
     "text": [
      "--- 251.89548635482788 seconds ---\n"
     ]
    },
    {
     "name": "stderr",
     "output_type": "stream",
     "text": []
    },
    {
     "name": "stdout",
     "output_type": "stream",
     "text": [
      "Epoch 0: Best: 0.5688369478323626, Average: 0.21585542982278935\n"
     ]
    },
    {
     "name": "stderr",
     "output_type": "stream",
     "text": [
      "100%|██████████| 100/100 [04:14<00:00,  2.54s/it]\n",
      " 35%|███▌      | 39/110 [2:45:48<5:13:04, 264.57s/it]"
     ]
    },
    {
     "name": "stdout",
     "output_type": "stream",
     "text": [
      "--- 257.85129714012146 seconds ---\n"
     ]
    },
    {
     "name": "stderr",
     "output_type": "stream",
     "text": []
    },
    {
     "name": "stdout",
     "output_type": "stream",
     "text": [
      "Epoch 0: Best: 0.5688369478323626, Average: 0.21585542982278935\n"
     ]
    },
    {
     "name": "stderr",
     "output_type": "stream",
     "text": [
      "100%|██████████| 100/100 [04:00<00:00,  2.41s/it]\n",
      " 36%|███▋      | 40/110 [2:49:51<5:01:13, 258.19s/it]"
     ]
    },
    {
     "name": "stdout",
     "output_type": "stream",
     "text": [
      "--- 243.30976271629333 seconds ---\n"
     ]
    },
    {
     "name": "stderr",
     "output_type": "stream",
     "text": []
    },
    {
     "name": "stdout",
     "output_type": "stream",
     "text": [
      "Epoch 0: Best: 0.5688369478323626, Average: 0.21585542982278935\n"
     ]
    },
    {
     "name": "stderr",
     "output_type": "stream",
     "text": [
      "100%|██████████| 100/100 [03:47<00:00,  2.27s/it]\n",
      " 37%|███▋      | 41/110 [2:53:41<4:47:09, 249.70s/it]"
     ]
    },
    {
     "name": "stdout",
     "output_type": "stream",
     "text": [
      "--- 229.89301013946533 seconds ---\n"
     ]
    },
    {
     "name": "stderr",
     "output_type": "stream",
     "text": []
    },
    {
     "name": "stdout",
     "output_type": "stream",
     "text": [
      "Epoch 0: Best: 0.5688369478323626, Average: 0.21585542982278935\n"
     ]
    },
    {
     "name": "stderr",
     "output_type": "stream",
     "text": [
      "100%|██████████| 100/100 [03:54<00:00,  2.34s/it]\n",
      " 38%|███▊      | 42/110 [2:57:38<4:38:38, 245.86s/it]"
     ]
    },
    {
     "name": "stdout",
     "output_type": "stream",
     "text": [
      "--- 236.90433883666992 seconds ---\n"
     ]
    },
    {
     "name": "stderr",
     "output_type": "stream",
     "text": []
    },
    {
     "name": "stdout",
     "output_type": "stream",
     "text": [
      "Epoch 0: Best: 0.5688369478323626, Average: 0.21585542982278935\n"
     ]
    },
    {
     "name": "stderr",
     "output_type": "stream",
     "text": [
      "100%|██████████| 100/100 [03:55<00:00,  2.35s/it]\n",
      " 39%|███▉      | 43/110 [3:01:36<4:31:51, 243.45s/it]"
     ]
    },
    {
     "name": "stdout",
     "output_type": "stream",
     "text": [
      "--- 237.8344190120697 seconds ---\n"
     ]
    },
    {
     "name": "stderr",
     "output_type": "stream",
     "text": []
    },
    {
     "name": "stdout",
     "output_type": "stream",
     "text": [
      "Epoch 0: Best: 0.5688369478323626, Average: 0.21585542982278935\n"
     ]
    },
    {
     "name": "stderr",
     "output_type": "stream",
     "text": [
      "100%|██████████| 100/100 [04:01<00:00,  2.41s/it]\n",
      " 40%|████      | 44/110 [3:05:40<4:27:50, 243.49s/it]"
     ]
    },
    {
     "name": "stdout",
     "output_type": "stream",
     "text": [
      "--- 243.5572681427002 seconds ---\n"
     ]
    },
    {
     "name": "stderr",
     "output_type": "stream",
     "text": []
    },
    {
     "name": "stdout",
     "output_type": "stream",
     "text": [
      "Epoch 0: Best: 0.5688369478323626, Average: 0.21585542982278935\n"
     ]
    },
    {
     "name": "stderr",
     "output_type": "stream",
     "text": [
      "100%|██████████| 100/100 [04:08<00:00,  2.48s/it]\n",
      " 41%|████      | 45/110 [3:09:51<4:26:17, 245.81s/it]"
     ]
    },
    {
     "name": "stdout",
     "output_type": "stream",
     "text": [
      "--- 251.23245215415955 seconds ---\n"
     ]
    },
    {
     "name": "stderr",
     "output_type": "stream",
     "text": []
    },
    {
     "name": "stdout",
     "output_type": "stream",
     "text": [
      "Epoch 0: Best: 0.5688369478323626, Average: 0.21585542982278935\n"
     ]
    },
    {
     "name": "stderr",
     "output_type": "stream",
     "text": [
      "100%|██████████| 100/100 [03:55<00:00,  2.36s/it]\n",
      " 42%|████▏     | 46/110 [3:13:49<4:19:47, 243.56s/it]"
     ]
    },
    {
     "name": "stdout",
     "output_type": "stream",
     "text": [
      "--- 238.3110067844391 seconds ---\n"
     ]
    },
    {
     "name": "stderr",
     "output_type": "stream",
     "text": []
    },
    {
     "name": "stdout",
     "output_type": "stream",
     "text": [
      "Epoch 0: Best: 0.5688369478323626, Average: 0.21585542982278935\n"
     ]
    },
    {
     "name": "stderr",
     "output_type": "stream",
     "text": [
      "100%|██████████| 100/100 [03:51<00:00,  2.31s/it]\n",
      " 43%|████▎     | 47/110 [3:17:43<4:12:39, 240.62s/it]"
     ]
    },
    {
     "name": "stdout",
     "output_type": "stream",
     "text": [
      "--- 233.7638258934021 seconds ---\n"
     ]
    },
    {
     "name": "stderr",
     "output_type": "stream",
     "text": []
    },
    {
     "name": "stdout",
     "output_type": "stream",
     "text": [
      "Epoch 0: Best: 0.5688369478323626, Average: 0.21585542982278935\n"
     ]
    },
    {
     "name": "stderr",
     "output_type": "stream",
     "text": [
      "100%|██████████| 100/100 [03:56<00:00,  2.36s/it]\n",
      " 44%|████▎     | 48/110 [3:21:42<4:08:05, 240.09s/it]"
     ]
    },
    {
     "name": "stdout",
     "output_type": "stream",
     "text": [
      "--- 238.84836292266846 seconds ---\n"
     ]
    },
    {
     "name": "stderr",
     "output_type": "stream",
     "text": []
    },
    {
     "name": "stdout",
     "output_type": "stream",
     "text": [
      "Epoch 0: Best: 0.5688369478323626, Average: 0.21585542982278935\n"
     ]
    },
    {
     "name": "stderr",
     "output_type": "stream",
     "text": [
      "100%|██████████| 100/100 [03:59<00:00,  2.39s/it]\n",
      " 45%|████▍     | 49/110 [3:25:44<4:04:38, 240.62s/it]"
     ]
    },
    {
     "name": "stdout",
     "output_type": "stream",
     "text": [
      "--- 241.87089109420776 seconds ---\n"
     ]
    },
    {
     "name": "stderr",
     "output_type": "stream",
     "text": []
    },
    {
     "name": "stdout",
     "output_type": "stream",
     "text": [
      "Epoch 0: Best: 0.5688369478323626, Average: 0.21585542982278935\n"
     ]
    },
    {
     "name": "stderr",
     "output_type": "stream",
     "text": [
      "100%|██████████| 100/100 [04:43<00:00,  2.83s/it]\n",
      " 45%|████▌     | 50/110 [3:30:30<4:14:12, 254.20s/it]"
     ]
    },
    {
     "name": "stdout",
     "output_type": "stream",
     "text": [
      "--- 285.8774039745331 seconds ---\n"
     ]
    },
    {
     "name": "stderr",
     "output_type": "stream",
     "text": []
    },
    {
     "name": "stdout",
     "output_type": "stream",
     "text": [
      "Epoch 0: Best: 0.5688369478323626, Average: 0.21585542982278935\n"
     ]
    },
    {
     "name": "stderr",
     "output_type": "stream",
     "text": [
      "100%|██████████| 100/100 [03:50<00:00,  2.30s/it]\n",
      " 46%|████▋     | 51/110 [3:34:23<4:03:44, 247.87s/it]"
     ]
    },
    {
     "name": "stdout",
     "output_type": "stream",
     "text": [
      "--- 233.09535789489746 seconds ---\n"
     ]
    },
    {
     "name": "stderr",
     "output_type": "stream",
     "text": []
    },
    {
     "name": "stdout",
     "output_type": "stream",
     "text": [
      "Epoch 0: Best: 0.5688369478323626, Average: 0.21585542982278935\n"
     ]
    },
    {
     "name": "stderr",
     "output_type": "stream",
     "text": [
      "100%|██████████| 100/100 [03:53<00:00,  2.34s/it]\n",
      " 47%|████▋     | 52/110 [3:38:19<3:56:18, 244.46s/it]"
     ]
    },
    {
     "name": "stdout",
     "output_type": "stream",
     "text": [
      "--- 236.49963068962097 seconds ---\n"
     ]
    },
    {
     "name": "stderr",
     "output_type": "stream",
     "text": []
    },
    {
     "name": "stdout",
     "output_type": "stream",
     "text": [
      "Epoch 0: Best: 0.5688369478323626, Average: 0.21585542982278935\n"
     ]
    },
    {
     "name": "stderr",
     "output_type": "stream",
     "text": [
      "100%|██████████| 100/100 [04:31<00:00,  2.71s/it]\n",
      " 48%|████▊     | 53/110 [3:42:53<4:00:37, 253.28s/it]"
     ]
    },
    {
     "name": "stdout",
     "output_type": "stream",
     "text": [
      "--- 273.8677580356598 seconds ---\n"
     ]
    },
    {
     "name": "stderr",
     "output_type": "stream",
     "text": []
    },
    {
     "name": "stdout",
     "output_type": "stream",
     "text": [
      "Epoch 0: Best: 0.5688369478323626, Average: 0.21585542982278935\n"
     ]
    },
    {
     "name": "stderr",
     "output_type": "stream",
     "text": [
      "100%|██████████| 100/100 [03:57<00:00,  2.38s/it]\n",
      " 49%|████▉     | 54/110 [3:46:54<3:52:52, 249.51s/it]"
     ]
    },
    {
     "name": "stdout",
     "output_type": "stream",
     "text": [
      "--- 240.71005702018738 seconds ---\n"
     ]
    },
    {
     "name": "stderr",
     "output_type": "stream",
     "text": []
    },
    {
     "name": "stdout",
     "output_type": "stream",
     "text": [
      "Epoch 0: Best: 0.5688369478323626, Average: 0.21585542982278935\n"
     ]
    },
    {
     "name": "stderr",
     "output_type": "stream",
     "text": [
      "100%|██████████| 100/100 [04:14<00:00,  2.54s/it]\n",
      " 50%|█████     | 55/110 [3:51:11<3:50:45, 251.73s/it]"
     ]
    },
    {
     "name": "stdout",
     "output_type": "stream",
     "text": [
      "--- 256.92055201530457 seconds ---\n"
     ]
    },
    {
     "name": "stderr",
     "output_type": "stream",
     "text": []
    },
    {
     "name": "stdout",
     "output_type": "stream",
     "text": [
      "Epoch 0: Best: 0.5688369478323626, Average: 0.21585542982278935\n"
     ]
    },
    {
     "name": "stderr",
     "output_type": "stream",
     "text": [
      "100%|██████████| 100/100 [04:10<00:00,  2.50s/it]\n",
      " 51%|█████     | 56/110 [3:55:24<3:46:54, 252.12s/it]"
     ]
    },
    {
     "name": "stdout",
     "output_type": "stream",
     "text": [
      "--- 253.01260900497437 seconds ---\n"
     ]
    },
    {
     "name": "stderr",
     "output_type": "stream",
     "text": []
    },
    {
     "name": "stdout",
     "output_type": "stream",
     "text": [
      "Epoch 0: Best: 0.5688369478323626, Average: 0.21585542982278935\n"
     ]
    },
    {
     "name": "stderr",
     "output_type": "stream",
     "text": [
      "100%|██████████| 100/100 [03:51<00:00,  2.32s/it]\n",
      " 52%|█████▏    | 57/110 [3:59:18<3:38:01, 246.81s/it]"
     ]
    },
    {
     "name": "stdout",
     "output_type": "stream",
     "text": [
      "--- 234.43474006652832 seconds ---\n"
     ]
    },
    {
     "name": "stderr",
     "output_type": "stream",
     "text": []
    },
    {
     "name": "stdout",
     "output_type": "stream",
     "text": [
      "Epoch 0: Best: 0.5688369478323626, Average: 0.21585542982278935\n"
     ]
    },
    {
     "name": "stderr",
     "output_type": "stream",
     "text": [
      "100%|██████████| 100/100 [04:23<00:00,  2.63s/it]\n",
      " 53%|█████▎    | 58/110 [4:03:44<3:38:49, 252.49s/it]"
     ]
    },
    {
     "name": "stdout",
     "output_type": "stream",
     "text": [
      "--- 265.74873900413513 seconds ---\n"
     ]
    },
    {
     "name": "stderr",
     "output_type": "stream",
     "text": []
    },
    {
     "name": "stdout",
     "output_type": "stream",
     "text": [
      "Epoch 0: Best: 0.5688369478323626, Average: 0.21585542982278935\n"
     ]
    },
    {
     "name": "stderr",
     "output_type": "stream",
     "text": [
      "100%|██████████| 100/100 [03:52<00:00,  2.33s/it]\n",
      " 54%|█████▎    | 59/110 [4:07:40<3:30:27, 247.61s/it]"
     ]
    },
    {
     "name": "stdout",
     "output_type": "stream",
     "text": [
      "--- 236.20461106300354 seconds ---\n"
     ]
    },
    {
     "name": "stderr",
     "output_type": "stream",
     "text": []
    },
    {
     "name": "stdout",
     "output_type": "stream",
     "text": [
      "Epoch 0: Best: 0.5688369478323626, Average: 0.21585542982278935\n"
     ]
    },
    {
     "name": "stderr",
     "output_type": "stream",
     "text": [
      "100%|██████████| 100/100 [04:23<00:00,  2.64s/it]\n",
      " 55%|█████▍    | 60/110 [4:12:06<3:30:59, 253.20s/it]"
     ]
    },
    {
     "name": "stdout",
     "output_type": "stream",
     "text": [
      "--- 266.2444279193878 seconds ---\n"
     ]
    },
    {
     "name": "stderr",
     "output_type": "stream",
     "text": []
    },
    {
     "name": "stdout",
     "output_type": "stream",
     "text": [
      "Epoch 0: Best: 0.5688369478323626, Average: 0.21585542982278935\n"
     ]
    },
    {
     "name": "stderr",
     "output_type": "stream",
     "text": [
      "100%|██████████| 100/100 [04:13<00:00,  2.54s/it]\n",
      " 55%|█████▌    | 61/110 [4:16:23<3:27:35, 254.18s/it]"
     ]
    },
    {
     "name": "stdout",
     "output_type": "stream",
     "text": [
      "--- 256.4803388118744 seconds ---\n"
     ]
    },
    {
     "name": "stderr",
     "output_type": "stream",
     "text": []
    },
    {
     "name": "stdout",
     "output_type": "stream",
     "text": [
      "Epoch 0: Best: 0.5688369478323626, Average: 0.21585542982278935\n"
     ]
    },
    {
     "name": "stderr",
     "output_type": "stream",
     "text": [
      "100%|██████████| 100/100 [04:08<00:00,  2.49s/it]\n",
      " 56%|█████▋    | 62/110 [4:20:34<3:22:43, 253.41s/it]"
     ]
    },
    {
     "name": "stdout",
     "output_type": "stream",
     "text": [
      "--- 251.5910439491272 seconds ---\n"
     ]
    },
    {
     "name": "stderr",
     "output_type": "stream",
     "text": []
    },
    {
     "name": "stdout",
     "output_type": "stream",
     "text": [
      "Epoch 0: Best: 0.5688369478323626, Average: 0.21585542982278935\n"
     ]
    },
    {
     "name": "stderr",
     "output_type": "stream",
     "text": [
      "100%|██████████| 100/100 [04:11<00:00,  2.52s/it]\n",
      " 57%|█████▋    | 63/110 [4:24:49<3:18:41, 253.66s/it]"
     ]
    },
    {
     "name": "stdout",
     "output_type": "stream",
     "text": [
      "--- 254.23766994476318 seconds ---\n"
     ]
    },
    {
     "name": "stderr",
     "output_type": "stream",
     "text": []
    },
    {
     "name": "stdout",
     "output_type": "stream",
     "text": [
      "Epoch 0: Best: 0.5688369478323626, Average: 0.21585542982278935\n"
     ]
    },
    {
     "name": "stderr",
     "output_type": "stream",
     "text": [
      "100%|██████████| 100/100 [04:08<00:00,  2.48s/it]\n",
      " 58%|█████▊    | 64/110 [4:28:59<3:13:47, 252.76s/it]"
     ]
    },
    {
     "name": "stdout",
     "output_type": "stream",
     "text": [
      "--- 250.67117309570312 seconds ---\n"
     ]
    },
    {
     "name": "stderr",
     "output_type": "stream",
     "text": []
    },
    {
     "name": "stdout",
     "output_type": "stream",
     "text": [
      "Epoch 0: Best: 0.5688369478323626, Average: 0.21585542982278935\n"
     ]
    },
    {
     "name": "stderr",
     "output_type": "stream",
     "text": [
      "100%|██████████| 100/100 [19:39<00:00, 11.79s/it]\n",
      " 59%|█████▉    | 65/110 [4:48:41<6:38:37, 531.50s/it]"
     ]
    },
    {
     "name": "stdout",
     "output_type": "stream",
     "text": [
      "--- 1181.88152718544 seconds ---\n"
     ]
    },
    {
     "name": "stderr",
     "output_type": "stream",
     "text": []
    },
    {
     "name": "stdout",
     "output_type": "stream",
     "text": [
      "Epoch 0: Best: 0.5688369478323626, Average: 0.21585542982278935\n"
     ]
    },
    {
     "name": "stderr",
     "output_type": "stream",
     "text": [
      "100%|██████████| 100/100 [03:19<00:00,  1.99s/it]\n",
      " 60%|██████    | 66/110 [4:52:02<5:17:07, 432.44s/it]"
     ]
    },
    {
     "name": "stdout",
     "output_type": "stream",
     "text": [
      "--- 201.31308794021606 seconds ---\n"
     ]
    },
    {
     "name": "stderr",
     "output_type": "stream",
     "text": []
    },
    {
     "name": "stdout",
     "output_type": "stream",
     "text": [
      "Epoch 0: Best: 0.5688369478323626, Average: 0.21585542982278935\n"
     ]
    },
    {
     "name": "stderr",
     "output_type": "stream",
     "text": [
      "100%|██████████| 100/100 [18:52<00:00, 11.32s/it]\n",
      " 61%|██████    | 67/110 [5:10:57<7:40:51, 643.05s/it]"
     ]
    },
    {
     "name": "stdout",
     "output_type": "stream",
     "text": [
      "--- 1134.4772717952728 seconds ---\n"
     ]
    },
    {
     "name": "stderr",
     "output_type": "stream",
     "text": []
    },
    {
     "name": "stdout",
     "output_type": "stream",
     "text": [
      "Epoch 0: Best: 0.5688369478323626, Average: 0.21585542982278935\n"
     ]
    },
    {
     "name": "stderr",
     "output_type": "stream",
     "text": [
      "100%|██████████| 100/100 [03:26<00:00,  2.06s/it]\n",
      " 62%|██████▏   | 68/110 [5:14:26<5:58:54, 512.73s/it]"
     ]
    },
    {
     "name": "stdout",
     "output_type": "stream",
     "text": [
      "--- 208.63645100593567 seconds ---\n"
     ]
    },
    {
     "name": "stderr",
     "output_type": "stream",
     "text": []
    },
    {
     "name": "stdout",
     "output_type": "stream",
     "text": [
      "Epoch 0: Best: 0.5688369478323626, Average: 0.21585542982278935\n"
     ]
    },
    {
     "name": "stderr",
     "output_type": "stream",
     "text": [
      "100%|██████████| 100/100 [19:36<00:00, 11.76s/it]\n",
      " 63%|██████▎   | 69/110 [5:34:04<8:06:51, 712.48s/it]"
     ]
    },
    {
     "name": "stdout",
     "output_type": "stream",
     "text": [
      "--- 1178.5612411499023 seconds ---\n"
     ]
    },
    {
     "name": "stderr",
     "output_type": "stream",
     "text": []
    },
    {
     "name": "stdout",
     "output_type": "stream",
     "text": [
      "Epoch 0: Best: 0.5688369478323626, Average: 0.21585542982278935\n"
     ]
    },
    {
     "name": "stderr",
     "output_type": "stream",
     "text": [
      "100%|██████████| 100/100 [35:38<00:00, 21.39s/it]\n",
      " 64%|██████▎   | 70/110 [6:09:45<12:40:38, 1140.95s/it]"
     ]
    },
    {
     "name": "stdout",
     "output_type": "stream",
     "text": [
      "--- 2140.7193298339844 seconds ---\n"
     ]
    },
    {
     "name": "stderr",
     "output_type": "stream",
     "text": []
    },
    {
     "name": "stdout",
     "output_type": "stream",
     "text": [
      "Epoch 0: Best: 0.5688369478323626, Average: 0.21585542982278935\n"
     ]
    },
    {
     "name": "stderr",
     "output_type": "stream",
     "text": [
      "100%|██████████| 100/100 [21:01<00:00, 12.61s/it]\n",
      " 65%|██████▍   | 71/110 [6:30:48<12:45:30, 1177.72s/it]"
     ]
    },
    {
     "name": "stdout",
     "output_type": "stream",
     "text": [
      "--- 1263.50328707695 seconds ---\n"
     ]
    },
    {
     "name": "stderr",
     "output_type": "stream",
     "text": []
    },
    {
     "name": "stdout",
     "output_type": "stream",
     "text": [
      "Epoch 0: Best: 0.5688369478323626, Average: 0.21585542982278935\n"
     ]
    },
    {
     "name": "stderr",
     "output_type": "stream",
     "text": [
      "100%|██████████| 100/100 [03:20<00:00,  2.00s/it]\n",
      " 65%|██████▌   | 72/110 [6:34:11<9:20:36, 885.18s/it]  "
     ]
    },
    {
     "name": "stdout",
     "output_type": "stream",
     "text": [
      "--- 202.6068160533905 seconds ---\n"
     ]
    },
    {
     "name": "stderr",
     "output_type": "stream",
     "text": []
    },
    {
     "name": "stdout",
     "output_type": "stream",
     "text": [
      "Epoch 0: Best: 0.5688369478323626, Average: 0.21585542982278935\n"
     ]
    },
    {
     "name": "stderr",
     "output_type": "stream",
     "text": [
      "100%|██████████| 100/100 [03:32<00:00,  2.13s/it]\n",
      " 66%|██████▋   | 73/110 [6:37:46<7:01:51, 684.10s/it]"
     ]
    },
    {
     "name": "stdout",
     "output_type": "stream",
     "text": [
      "--- 214.91196298599243 seconds ---\n"
     ]
    },
    {
     "name": "stderr",
     "output_type": "stream",
     "text": []
    },
    {
     "name": "stdout",
     "output_type": "stream",
     "text": [
      "Epoch 0: Best: 0.5688369478323626, Average: 0.21585542982278935\n"
     ]
    },
    {
     "name": "stderr",
     "output_type": "stream",
     "text": [
      "100%|██████████| 100/100 [03:45<00:00,  2.26s/it]\n",
      " 67%|██████▋   | 74/110 [6:41:34<5:28:23, 547.33s/it]"
     ]
    },
    {
     "name": "stdout",
     "output_type": "stream",
     "text": [
      "--- 228.19802379608154 seconds ---\n"
     ]
    },
    {
     "name": "stderr",
     "output_type": "stream",
     "text": []
    },
    {
     "name": "stdout",
     "output_type": "stream",
     "text": [
      "Epoch 0: Best: 0.5688369478323626, Average: 0.21585542982278935\n"
     ]
    },
    {
     "name": "stderr",
     "output_type": "stream",
     "text": [
      "100%|██████████| 100/100 [03:54<00:00,  2.34s/it]\n",
      " 68%|██████▊   | 75/110 [6:45:31<4:24:58, 454.24s/it]"
     ]
    },
    {
     "name": "stdout",
     "output_type": "stream",
     "text": [
      "--- 236.71635484695435 seconds ---\n"
     ]
    },
    {
     "name": "stderr",
     "output_type": "stream",
     "text": []
    },
    {
     "name": "stdout",
     "output_type": "stream",
     "text": [
      "Epoch 0: Best: 0.5688369478323626, Average: 0.21585542982278935\n"
     ]
    },
    {
     "name": "stderr",
     "output_type": "stream",
     "text": [
      "100%|██████████| 100/100 [03:45<00:00,  2.26s/it]\n",
      " 69%|██████▉   | 76/110 [6:49:20<3:39:03, 386.56s/it]"
     ]
    },
    {
     "name": "stdout",
     "output_type": "stream",
     "text": [
      "--- 228.65486311912537 seconds ---\n"
     ]
    },
    {
     "name": "stderr",
     "output_type": "stream",
     "text": []
    },
    {
     "name": "stdout",
     "output_type": "stream",
     "text": [
      "Epoch 0: Best: 0.5688369478323626, Average: 0.21585542982278935\n"
     ]
    },
    {
     "name": "stderr",
     "output_type": "stream",
     "text": [
      "100%|██████████| 100/100 [03:46<00:00,  2.27s/it]\n",
      " 70%|███████   | 77/110 [6:53:09<3:06:41, 339.45s/it]"
     ]
    },
    {
     "name": "stdout",
     "output_type": "stream",
     "text": [
      "--- 229.53020477294922 seconds ---\n"
     ]
    },
    {
     "name": "stderr",
     "output_type": "stream",
     "text": []
    },
    {
     "name": "stdout",
     "output_type": "stream",
     "text": [
      "Epoch 0: Best: 0.5688369478323626, Average: 0.21585542982278935\n"
     ]
    },
    {
     "name": "stderr",
     "output_type": "stream",
     "text": [
      "100%|██████████| 100/100 [03:49<00:00,  2.29s/it]\n",
      " 71%|███████   | 78/110 [6:57:01<2:43:47, 307.11s/it]"
     ]
    },
    {
     "name": "stdout",
     "output_type": "stream",
     "text": [
      "--- 231.65592670440674 seconds ---\n"
     ]
    },
    {
     "name": "stderr",
     "output_type": "stream",
     "text": []
    },
    {
     "name": "stdout",
     "output_type": "stream",
     "text": [
      "Epoch 0: Best: 0.5688369478323626, Average: 0.21585542982278935\n"
     ]
    },
    {
     "name": "stderr",
     "output_type": "stream",
     "text": [
      "100%|██████████| 100/100 [04:01<00:00,  2.42s/it]\n",
      " 72%|███████▏  | 79/110 [7:01:05<2:28:55, 288.24s/it]"
     ]
    },
    {
     "name": "stdout",
     "output_type": "stream",
     "text": [
      "--- 244.19011402130127 seconds ---\n"
     ]
    },
    {
     "name": "stderr",
     "output_type": "stream",
     "text": []
    },
    {
     "name": "stdout",
     "output_type": "stream",
     "text": [
      "Epoch 0: Best: 0.5688369478323626, Average: 0.21585542982278935\n"
     ]
    },
    {
     "name": "stderr",
     "output_type": "stream",
     "text": [
      "100%|██████████| 100/100 [04:23<00:00,  2.63s/it]\n",
      " 73%|███████▎  | 80/110 [7:05:31<2:20:47, 281.57s/it]"
     ]
    },
    {
     "name": "stdout",
     "output_type": "stream",
     "text": [
      "--- 266.0012118816376 seconds ---\n"
     ]
    },
    {
     "name": "stderr",
     "output_type": "stream",
     "text": []
    },
    {
     "name": "stdout",
     "output_type": "stream",
     "text": [
      "Epoch 0: Best: 0.5688369478323626, Average: 0.21585542982278935\n"
     ]
    },
    {
     "name": "stderr",
     "output_type": "stream",
     "text": [
      "100%|██████████| 100/100 [03:50<00:00,  2.31s/it]\n",
      " 74%|███████▎  | 81/110 [7:09:24<2:09:05, 267.09s/it]"
     ]
    },
    {
     "name": "stdout",
     "output_type": "stream",
     "text": [
      "--- 233.31607294082642 seconds ---\n"
     ]
    },
    {
     "name": "stderr",
     "output_type": "stream",
     "text": []
    },
    {
     "name": "stdout",
     "output_type": "stream",
     "text": [
      "Epoch 0: Best: 0.5688369478323626, Average: 0.21585542982278935\n"
     ]
    },
    {
     "name": "stderr",
     "output_type": "stream",
     "text": [
      "100%|██████████| 100/100 [03:56<00:00,  2.36s/it]\n",
      " 75%|███████▍  | 82/110 [7:13:24<2:00:44, 258.73s/it]"
     ]
    },
    {
     "name": "stdout",
     "output_type": "stream",
     "text": [
      "--- 239.22592306137085 seconds ---\n"
     ]
    },
    {
     "name": "stderr",
     "output_type": "stream",
     "text": []
    },
    {
     "name": "stdout",
     "output_type": "stream",
     "text": [
      "Epoch 0: Best: 0.5688369478323626, Average: 0.21585542982278935\n"
     ]
    },
    {
     "name": "stderr",
     "output_type": "stream",
     "text": [
      "100%|██████████| 100/100 [03:51<00:00,  2.31s/it]\n",
      " 75%|███████▌  | 83/110 [7:17:18<1:53:05, 251.31s/it]"
     ]
    },
    {
     "name": "stdout",
     "output_type": "stream",
     "text": [
      "--- 233.9832980632782 seconds ---\n"
     ]
    },
    {
     "name": "stderr",
     "output_type": "stream",
     "text": []
    },
    {
     "name": "stdout",
     "output_type": "stream",
     "text": [
      "Epoch 0: Best: 0.5688369478323626, Average: 0.21585542982278935\n"
     ]
    },
    {
     "name": "stderr",
     "output_type": "stream",
     "text": [
      "100%|██████████| 100/100 [03:52<00:00,  2.33s/it]\n",
      " 76%|███████▋  | 84/110 [7:21:13<1:46:50, 246.56s/it]"
     ]
    },
    {
     "name": "stdout",
     "output_type": "stream",
     "text": [
      "--- 235.48319697380066 seconds ---\n"
     ]
    },
    {
     "name": "stderr",
     "output_type": "stream",
     "text": []
    },
    {
     "name": "stdout",
     "output_type": "stream",
     "text": [
      "Epoch 0: Best: 0.5688369478323626, Average: 0.21585542982278935\n"
     ]
    },
    {
     "name": "stderr",
     "output_type": "stream",
     "text": [
      "100%|██████████| 100/100 [15:40<00:00,  9.41s/it]\n",
      " 77%|███████▋  | 85/110 [7:36:57<3:09:52, 455.70s/it]"
     ]
    },
    {
     "name": "stdout",
     "output_type": "stream",
     "text": [
      "--- 943.6744749546051 seconds ---\n"
     ]
    },
    {
     "name": "stderr",
     "output_type": "stream",
     "text": []
    },
    {
     "name": "stdout",
     "output_type": "stream",
     "text": [
      "Epoch 0: Best: 0.5688369478323626, Average: 0.21585542982278935\n"
     ]
    },
    {
     "name": "stderr",
     "output_type": "stream",
     "text": [
      "100%|██████████| 100/100 [03:57<00:00,  2.37s/it]\n",
      " 78%|███████▊  | 86/110 [7:40:56<2:36:21, 390.88s/it]"
     ]
    },
    {
     "name": "stdout",
     "output_type": "stream",
     "text": [
      "--- 239.65226030349731 seconds ---\n"
     ]
    },
    {
     "name": "stderr",
     "output_type": "stream",
     "text": []
    },
    {
     "name": "stdout",
     "output_type": "stream",
     "text": [
      "Epoch 0: Best: 0.5688369478323626, Average: 0.21585542982278935\n"
     ]
    },
    {
     "name": "stderr",
     "output_type": "stream",
     "text": [
      "100%|██████████| 100/100 [04:44<00:00,  2.84s/it]\n",
      " 79%|███████▉  | 87/110 [7:45:43<2:17:51, 359.62s/it]"
     ]
    },
    {
     "name": "stdout",
     "output_type": "stream",
     "text": [
      "--- 286.6623361110687 seconds ---\n"
     ]
    },
    {
     "name": "stderr",
     "output_type": "stream",
     "text": []
    },
    {
     "name": "stdout",
     "output_type": "stream",
     "text": [
      "Epoch 0: Best: 0.5688369478323626, Average: 0.21585542982278935\n"
     ]
    },
    {
     "name": "stderr",
     "output_type": "stream",
     "text": [
      "100%|██████████| 100/100 [04:30<00:00,  2.71s/it]\n",
      " 80%|████████  | 88/110 [7:50:16<2:02:21, 333.72s/it]"
     ]
    },
    {
     "name": "stdout",
     "output_type": "stream",
     "text": [
      "--- 273.2819948196411 seconds ---\n"
     ]
    },
    {
     "name": "stderr",
     "output_type": "stream",
     "text": []
    },
    {
     "name": "stdout",
     "output_type": "stream",
     "text": [
      "Epoch 0: Best: 0.5688369478323626, Average: 0.21585542982278935\n"
     ]
    },
    {
     "name": "stderr",
     "output_type": "stream",
     "text": [
      "100%|██████████| 100/100 [04:30<00:00,  2.70s/it]\n",
      " 81%|████████  | 89/110 [7:54:50<1:50:27, 315.59s/it]"
     ]
    },
    {
     "name": "stdout",
     "output_type": "stream",
     "text": [
      "--- 273.297828912735 seconds ---\n"
     ]
    },
    {
     "name": "stderr",
     "output_type": "stream",
     "text": []
    },
    {
     "name": "stdout",
     "output_type": "stream",
     "text": [
      "Epoch 0: Best: 0.5688369478323626, Average: 0.21585542982278935\n"
     ]
    },
    {
     "name": "stderr",
     "output_type": "stream",
     "text": [
      "100%|██████████| 100/100 [04:08<00:00,  2.48s/it]\n",
      " 82%|████████▏ | 90/110 [7:59:00<1:38:42, 296.11s/it]"
     ]
    },
    {
     "name": "stdout",
     "output_type": "stream",
     "text": [
      "--- 250.6432180404663 seconds ---\n"
     ]
    },
    {
     "name": "stderr",
     "output_type": "stream",
     "text": []
    },
    {
     "name": "stdout",
     "output_type": "stream",
     "text": [
      "Epoch 0: Best: 0.5688369478323626, Average: 0.21585542982278935\n"
     ]
    },
    {
     "name": "stderr",
     "output_type": "stream",
     "text": [
      "100%|██████████| 100/100 [03:53<00:00,  2.34s/it]\n",
      " 83%|████████▎ | 91/110 [8:02:57<1:28:06, 278.23s/it]"
     ]
    },
    {
     "name": "stdout",
     "output_type": "stream",
     "text": [
      "--- 236.5202920436859 seconds ---\n"
     ]
    },
    {
     "name": "stderr",
     "output_type": "stream",
     "text": []
    },
    {
     "name": "stdout",
     "output_type": "stream",
     "text": [
      "Epoch 0: Best: 0.5688369478323626, Average: 0.21585542982278935\n"
     ]
    },
    {
     "name": "stderr",
     "output_type": "stream",
     "text": [
      "100%|██████████| 100/100 [03:57<00:00,  2.38s/it]\n",
      " 84%|████████▎ | 92/110 [8:06:57<1:20:02, 266.81s/it]"
     ]
    },
    {
     "name": "stdout",
     "output_type": "stream",
     "text": [
      "--- 240.15499997138977 seconds ---\n"
     ]
    },
    {
     "name": "stderr",
     "output_type": "stream",
     "text": []
    },
    {
     "name": "stdout",
     "output_type": "stream",
     "text": [
      "Epoch 0: Best: 0.5688369478323626, Average: 0.21585542982278935\n"
     ]
    },
    {
     "name": "stderr",
     "output_type": "stream",
     "text": [
      "100%|██████████| 100/100 [04:01<00:00,  2.42s/it]\n",
      " 85%|████████▍ | 93/110 [8:11:01<1:13:41, 260.07s/it]"
     ]
    },
    {
     "name": "stdout",
     "output_type": "stream",
     "text": [
      "--- 244.35778093338013 seconds ---\n"
     ]
    },
    {
     "name": "stderr",
     "output_type": "stream",
     "text": []
    },
    {
     "name": "stdout",
     "output_type": "stream",
     "text": [
      "Epoch 0: Best: 0.5688369478323626, Average: 0.21585542982278935\n"
     ]
    },
    {
     "name": "stderr",
     "output_type": "stream",
     "text": [
      "100%|██████████| 100/100 [04:03<00:00,  2.43s/it]\n",
      " 85%|████████▌ | 94/110 [8:15:07<1:08:12, 255.80s/it]"
     ]
    },
    {
     "name": "stdout",
     "output_type": "stream",
     "text": [
      "--- 245.821387052536 seconds ---\n"
     ]
    },
    {
     "name": "stderr",
     "output_type": "stream",
     "text": []
    },
    {
     "name": "stdout",
     "output_type": "stream",
     "text": [
      "Epoch 0: Best: 0.5688369478323626, Average: 0.21585542982278935\n"
     ]
    },
    {
     "name": "stderr",
     "output_type": "stream",
     "text": [
      "100%|██████████| 100/100 [04:04<00:00,  2.45s/it]\n",
      " 86%|████████▋ | 95/110 [8:19:15<1:03:18, 253.25s/it]"
     ]
    },
    {
     "name": "stdout",
     "output_type": "stream",
     "text": [
      "--- 247.31947088241577 seconds ---\n"
     ]
    },
    {
     "name": "stderr",
     "output_type": "stream",
     "text": []
    },
    {
     "name": "stdout",
     "output_type": "stream",
     "text": [
      "Epoch 0: Best: 0.5688369478323626, Average: 0.21585542982278935\n"
     ]
    },
    {
     "name": "stderr",
     "output_type": "stream",
     "text": [
      "100%|██████████| 100/100 [03:54<00:00,  2.34s/it]\n",
      " 87%|████████▋ | 96/110 [8:23:12<57:57, 248.39s/it]  "
     ]
    },
    {
     "name": "stdout",
     "output_type": "stream",
     "text": [
      "--- 237.03170824050903 seconds ---\n"
     ]
    },
    {
     "name": "stderr",
     "output_type": "stream",
     "text": []
    },
    {
     "name": "stdout",
     "output_type": "stream",
     "text": [
      "Epoch 0: Best: 0.5688369478323626, Average: 0.21585542982278935\n"
     ]
    },
    {
     "name": "stderr",
     "output_type": "stream",
     "text": [
      "100%|██████████| 100/100 [03:55<00:00,  2.36s/it]\n",
      " 88%|████████▊ | 97/110 [8:27:10<53:11, 245.49s/it]"
     ]
    },
    {
     "name": "stdout",
     "output_type": "stream",
     "text": [
      "--- 238.71454310417175 seconds ---\n"
     ]
    },
    {
     "name": "stderr",
     "output_type": "stream",
     "text": []
    },
    {
     "name": "stdout",
     "output_type": "stream",
     "text": [
      "Epoch 0: Best: 0.5688369478323626, Average: 0.21585542982278935\n"
     ]
    },
    {
     "name": "stderr",
     "output_type": "stream",
     "text": [
      "100%|██████████| 100/100 [03:59<00:00,  2.39s/it]\n",
      " 89%|████████▉ | 98/110 [8:31:12<48:53, 244.49s/it]"
     ]
    },
    {
     "name": "stdout",
     "output_type": "stream",
     "text": [
      "--- 242.1662950515747 seconds ---\n"
     ]
    },
    {
     "name": "stderr",
     "output_type": "stream",
     "text": []
    },
    {
     "name": "stdout",
     "output_type": "stream",
     "text": [
      "Epoch 0: Best: 0.5688369478323626, Average: 0.21585542982278935\n"
     ]
    },
    {
     "name": "stderr",
     "output_type": "stream",
     "text": [
      "100%|██████████| 100/100 [04:02<00:00,  2.43s/it]\n",
      " 90%|█████████ | 99/110 [8:35:18<44:52, 244.77s/it]"
     ]
    },
    {
     "name": "stdout",
     "output_type": "stream",
     "text": [
      "--- 245.4069230556488 seconds ---\n"
     ]
    },
    {
     "name": "stderr",
     "output_type": "stream",
     "text": []
    },
    {
     "name": "stdout",
     "output_type": "stream",
     "text": [
      "Epoch 0: Best: 0.5688369478323626, Average: 0.21585542982278935\n"
     ]
    },
    {
     "name": "stderr",
     "output_type": "stream",
     "text": [
      "100%|██████████| 100/100 [04:23<00:00,  2.63s/it]\n",
      " 91%|█████████ | 100/110 [8:39:44<41:51, 251.20s/it]"
     ]
    },
    {
     "name": "stdout",
     "output_type": "stream",
     "text": [
      "--- 266.20227098464966 seconds ---\n"
     ]
    },
    {
     "name": "stderr",
     "output_type": "stream",
     "text": []
    },
    {
     "name": "stdout",
     "output_type": "stream",
     "text": [
      "Epoch 0: Best: 0.5688369478323626, Average: 0.21585542982278935\n"
     ]
    },
    {
     "name": "stderr",
     "output_type": "stream",
     "text": [
      "100%|██████████| 100/100 [03:53<00:00,  2.34s/it]\n",
      " 92%|█████████▏| 101/110 [8:43:41<37:01, 246.79s/it]"
     ]
    },
    {
     "name": "stdout",
     "output_type": "stream",
     "text": [
      "--- 236.51863074302673 seconds ---\n"
     ]
    },
    {
     "name": "stderr",
     "output_type": "stream",
     "text": []
    },
    {
     "name": "stdout",
     "output_type": "stream",
     "text": [
      "Epoch 0: Best: 0.5688369478323626, Average: 0.21585542982278935\n"
     ]
    },
    {
     "name": "stderr",
     "output_type": "stream",
     "text": [
      "100%|██████████| 100/100 [03:57<00:00,  2.37s/it]\n",
      " 93%|█████████▎| 102/110 [8:47:41<32:39, 244.92s/it]"
     ]
    },
    {
     "name": "stdout",
     "output_type": "stream",
     "text": [
      "--- 240.54032802581787 seconds ---\n"
     ]
    },
    {
     "name": "stderr",
     "output_type": "stream",
     "text": []
    },
    {
     "name": "stdout",
     "output_type": "stream",
     "text": [
      "Epoch 0: Best: 0.5688369478323626, Average: 0.21585542982278935\n"
     ]
    },
    {
     "name": "stderr",
     "output_type": "stream",
     "text": [
      "100%|██████████| 100/100 [19:26<00:00, 11.66s/it]\n",
      " 94%|█████████▎| 103/110 [9:07:10<1:00:54, 522.03s/it]"
     ]
    },
    {
     "name": "stdout",
     "output_type": "stream",
     "text": [
      "--- 1168.6224150657654 seconds ---\n"
     ]
    },
    {
     "name": "stderr",
     "output_type": "stream",
     "text": []
    },
    {
     "name": "stdout",
     "output_type": "stream",
     "text": [
      "Epoch 0: Best: 0.5688369478323626, Average: 0.21585542982278935\n"
     ]
    },
    {
     "name": "stderr",
     "output_type": "stream",
     "text": [
      "100%|██████████| 100/100 [03:22<00:00,  2.02s/it]\n",
      " 95%|█████████▍| 104/110 [9:10:34<42:40, 426.83s/it]  "
     ]
    },
    {
     "name": "stdout",
     "output_type": "stream",
     "text": [
      "--- 204.69040203094482 seconds ---\n"
     ]
    },
    {
     "name": "stderr",
     "output_type": "stream",
     "text": []
    },
    {
     "name": "stdout",
     "output_type": "stream",
     "text": [
      "Epoch 0: Best: 0.5688369478323626, Average: 0.21585542982278935\n"
     ]
    },
    {
     "name": "stderr",
     "output_type": "stream",
     "text": [
      "100%|██████████| 100/100 [03:32<00:00,  2.13s/it]\n",
      " 95%|█████████▌| 105/110 [9:14:10<30:16, 363.36s/it]"
     ]
    },
    {
     "name": "stdout",
     "output_type": "stream",
     "text": [
      "--- 215.26425695419312 seconds ---\n"
     ]
    },
    {
     "name": "stderr",
     "output_type": "stream",
     "text": []
    },
    {
     "name": "stdout",
     "output_type": "stream",
     "text": [
      "Epoch 0: Best: 0.5688369478323626, Average: 0.21585542982278935\n"
     ]
    },
    {
     "name": "stderr",
     "output_type": "stream",
     "text": [
      "100%|██████████| 100/100 [03:38<00:00,  2.18s/it]\n",
      " 96%|█████████▋| 106/110 [9:17:50<21:22, 320.51s/it]"
     ]
    },
    {
     "name": "stdout",
     "output_type": "stream",
     "text": [
      "--- 220.5401909351349 seconds ---\n"
     ]
    },
    {
     "name": "stderr",
     "output_type": "stream",
     "text": []
    },
    {
     "name": "stdout",
     "output_type": "stream",
     "text": [
      "Epoch 0: Best: 0.5688369478323626, Average: 0.21585542982278935\n"
     ]
    },
    {
     "name": "stderr",
     "output_type": "stream",
     "text": [
      "100%|██████████| 100/100 [03:45<00:00,  2.25s/it]\n",
      " 97%|█████████▋| 107/110 [9:21:38<14:38, 292.67s/it]"
     ]
    },
    {
     "name": "stdout",
     "output_type": "stream",
     "text": [
      "--- 227.69307899475098 seconds ---\n"
     ]
    },
    {
     "name": "stderr",
     "output_type": "stream",
     "text": []
    },
    {
     "name": "stdout",
     "output_type": "stream",
     "text": [
      "Epoch 0: Best: 0.5688369478323626, Average: 0.21585542982278935\n"
     ]
    },
    {
     "name": "stderr",
     "output_type": "stream",
     "text": [
      "100%|██████████| 100/100 [03:49<00:00,  2.30s/it]\n",
      " 98%|█████████▊| 108/110 [9:25:30<09:09, 274.59s/it]"
     ]
    },
    {
     "name": "stdout",
     "output_type": "stream",
     "text": [
      "--- 232.40436100959778 seconds ---\n"
     ]
    },
    {
     "name": "stderr",
     "output_type": "stream",
     "text": []
    },
    {
     "name": "stdout",
     "output_type": "stream",
     "text": [
      "Epoch 0: Best: 0.5688369478323626, Average: 0.21585542982278935\n"
     ]
    },
    {
     "name": "stderr",
     "output_type": "stream",
     "text": [
      "100%|██████████| 100/100 [03:57<00:00,  2.38s/it]\n",
      " 99%|█████████▉| 109/110 [9:29:31<04:24, 264.41s/it]"
     ]
    },
    {
     "name": "stdout",
     "output_type": "stream",
     "text": [
      "--- 240.65847897529602 seconds ---\n"
     ]
    },
    {
     "name": "stderr",
     "output_type": "stream",
     "text": []
    },
    {
     "name": "stdout",
     "output_type": "stream",
     "text": [
      "Epoch 0: Best: 0.5688369478323626, Average: 0.21585542982278935\n"
     ]
    },
    {
     "name": "stderr",
     "output_type": "stream",
     "text": [
      "100%|██████████| 100/100 [03:58<00:00,  2.38s/it]\n",
      "100%|██████████| 110/110 [9:33:32<00:00, 312.84s/it]\n"
     ]
    },
    {
     "name": "stdout",
     "output_type": "stream",
     "text": [
      "--- 240.6121551990509 seconds ---\n"
     ]
    }
   ],
   "source": [
    "\n",
    "def execute_sensitivity_analysis_pso(combinations, filename):\n",
    "    \n",
    "    #combinations = [[2.05, 2.05, 1],[2.05, 2.05, 1]]\n",
    "\n",
    "    simulations_list = []\n",
    "    for row in tqdm(combinations):\n",
    "        \n",
    "        global_factor = row[0]\n",
    "        local_factor = row[1]\n",
    "        v_max = row[2]\n",
    "        \n",
    "        pso_alg = PSO(\n",
    "            num_epochs=100,\n",
    "            pop_size=1000,\n",
    "            chrom_length=10,\n",
    "            n_best=2,\n",
    "            global_factor = global_factor,\n",
    "            local_factor = local_factor,\n",
    "            speed_factor = 1,\n",
    "            v_max=v_max,\n",
    "            value_ranges=bound_values,\n",
    "            fitness_func=fitness_func_class,\n",
    "            neighborhood_mode='self',\n",
    "            verbose=True,\n",
    "            eval_every=100,\n",
    "            )\n",
    "\n",
    "        best_solutions = pso_alg.fit()\n",
    "\n",
    "        dict_save = {'global_factor': global_factor,\n",
    "                     'local_factor': local_factor,\n",
    "                     'v_max': v_max,\n",
    "                     'fitness_calls': pso_alg.fitness_calls_list.tolist(),\n",
    "                     'best_ind_list': pso_alg.best_ind_list.tolist(),\n",
    "                     'avg_ind_list': pso_alg.avg_ind_list.tolist(),\n",
    "                     'best_solutions': best_solutions.tolist(),\n",
    "                     'total_time': pso_alg.total_exec_time,\n",
    "                     }\n",
    "        simulations_list.append(dict_save)\n",
    "        \n",
    "    with open(filename, 'w') as fout:\n",
    "        json.dump(simulations_list, fout)\n",
    "\n",
    "    return\n",
    "        \n",
    "\n",
    "execute_sensitivity_analysis_pso(combinations, 'simulations/pso_sensitivity.json')"
   ]
  },
  {
   "cell_type": "markdown",
   "metadata": {},
   "source": [
    "# Análise de Sensibilidade da Evol ução Diferencial\n",
    "\n",
    "Hiperparâmetros a serem otimizados:\n",
    "- mutation_rate\n",
    "- crossover_rate\n",
    "\n",
    "Condições:\n",
    "- mutation_rate e crossover_rate <=1\n"
   ]
  },
  {
   "cell_type": "code",
   "execution_count": 6,
   "metadata": {},
   "outputs": [],
   "source": [
    "mutation_rate = np.linspace(0.1, 1, 10)\n",
    "crossover_rate = np.linspace(0.1, 1,10)\n",
    "grid1, grid2 = np.meshgrid(mutation_rate, crossover_rate)\n",
    "combinations = np.vstack((grid1.ravel(), grid2.ravel())).T"
   ]
  },
  {
   "cell_type": "code",
   "execution_count": 8,
   "metadata": {},
   "outputs": [
    {
     "name": "stderr",
     "output_type": "stream",
     "text": [
      "  0%|          | 0/100 [00:00<?, ?it/s]"
     ]
    },
    {
     "name": "stdout",
     "output_type": "stream",
     "text": [
      "Epoch 0: Best: 0.5688369478323626, Average: 0.24990544051605962\n"
     ]
    },
    {
     "name": "stderr",
     "output_type": "stream",
     "text": [
      "100%|██████████| 100/100 [08:11<00:00,  4.92s/it]\n",
      "  1%|          | 1/100 [08:11<13:31:39, 491.91s/it]"
     ]
    },
    {
     "name": "stdout",
     "output_type": "stream",
     "text": [
      "--- 491.9082601070404 seconds ---\n"
     ]
    },
    {
     "name": "stderr",
     "output_type": "stream",
     "text": []
    },
    {
     "name": "stdout",
     "output_type": "stream",
     "text": [
      "Epoch 0: Best: 0.5688369478323626, Average: 0.2730744545038224\n"
     ]
    },
    {
     "name": "stderr",
     "output_type": "stream",
     "text": [
      "100%|██████████| 100/100 [22:21<00:00, 13.41s/it]\n",
      "  2%|▏         | 2/100 [30:33<26:59:40, 991.64s/it]"
     ]
    },
    {
     "name": "stdout",
     "output_type": "stream",
     "text": [
      "--- 1341.4521889686584 seconds ---\n"
     ]
    },
    {
     "name": "stderr",
     "output_type": "stream",
     "text": [
      "  0%|          | 0/100 [00:03<?, ?it/s]\n",
      "  2%|▏         | 2/100 [30:36<24:59:58, 918.35s/it]\n"
     ]
    },
    {
     "ename": "KeyboardInterrupt",
     "evalue": "",
     "output_type": "error",
     "traceback": [
      "\u001b[0;31m---------------------------------------------------------------------------\u001b[0m",
      "\u001b[0;31mKeyboardInterrupt\u001b[0m                         Traceback (most recent call last)",
      "\u001b[1;32m/Users/pdcos/Documents/Estudos/Mestrado/Tese/modelo_foguete/modelo_foguete/sensitiviy_analysis/sens_pso.ipynb Célula 9\u001b[0m line \u001b[0;36m4\n\u001b[1;32m     <a href='vscode-notebook-cell:/Users/pdcos/Documents/Estudos/Mestrado/Tese/modelo_foguete/modelo_foguete/sensitiviy_analysis/sens_pso.ipynb#X11sZmlsZQ%3D%3D?line=35'>36</a>\u001b[0m         json\u001b[39m.\u001b[39mdump(simulations_list, fout)\n\u001b[1;32m     <a href='vscode-notebook-cell:/Users/pdcos/Documents/Estudos/Mestrado/Tese/modelo_foguete/modelo_foguete/sensitiviy_analysis/sens_pso.ipynb#X11sZmlsZQ%3D%3D?line=37'>38</a>\u001b[0m     \u001b[39mreturn\u001b[39;00m\n\u001b[0;32m---> <a href='vscode-notebook-cell:/Users/pdcos/Documents/Estudos/Mestrado/Tese/modelo_foguete/modelo_foguete/sensitiviy_analysis/sens_pso.ipynb#X11sZmlsZQ%3D%3D?line=40'>41</a>\u001b[0m execute_sensitivity_analysis_de(combinations, \u001b[39m'\u001b[39;49m\u001b[39msimulations/de_sensitivity.json\u001b[39;49m\u001b[39m'\u001b[39;49m)\n",
      "\u001b[1;32m/Users/pdcos/Documents/Estudos/Mestrado/Tese/modelo_foguete/modelo_foguete/sensitiviy_analysis/sens_pso.ipynb Célula 9\u001b[0m line \u001b[0;36m2\n\u001b[1;32m      <a href='vscode-notebook-cell:/Users/pdcos/Documents/Estudos/Mestrado/Tese/modelo_foguete/modelo_foguete/sensitiviy_analysis/sens_pso.ipynb#X11sZmlsZQ%3D%3D?line=8'>9</a>\u001b[0m crossover_rate \u001b[39m=\u001b[39m row[\u001b[39m1\u001b[39m]\n\u001b[1;32m     <a href='vscode-notebook-cell:/Users/pdcos/Documents/Estudos/Mestrado/Tese/modelo_foguete/modelo_foguete/sensitiviy_analysis/sens_pso.ipynb#X11sZmlsZQ%3D%3D?line=10'>11</a>\u001b[0m de_alg \u001b[39m=\u001b[39m DifferentialEvolutionAlgorithm(\n\u001b[1;32m     <a href='vscode-notebook-cell:/Users/pdcos/Documents/Estudos/Mestrado/Tese/modelo_foguete/modelo_foguete/sensitiviy_analysis/sens_pso.ipynb#X11sZmlsZQ%3D%3D?line=11'>12</a>\u001b[0m                                     num_epochs\u001b[39m=\u001b[39m\u001b[39m100\u001b[39m,\n\u001b[1;32m     <a href='vscode-notebook-cell:/Users/pdcos/Documents/Estudos/Mestrado/Tese/modelo_foguete/modelo_foguete/sensitiviy_analysis/sens_pso.ipynb#X11sZmlsZQ%3D%3D?line=12'>13</a>\u001b[0m                                     pop_size\u001b[39m=\u001b[39m\u001b[39m1000\u001b[39m,\n\u001b[0;32m   (...)\u001b[0m\n\u001b[1;32m     <a href='vscode-notebook-cell:/Users/pdcos/Documents/Estudos/Mestrado/Tese/modelo_foguete/modelo_foguete/sensitiviy_analysis/sens_pso.ipynb#X11sZmlsZQ%3D%3D?line=19'>20</a>\u001b[0m                                     eval_every\u001b[39m=\u001b[39m\u001b[39m100\u001b[39m,\n\u001b[1;32m     <a href='vscode-notebook-cell:/Users/pdcos/Documents/Estudos/Mestrado/Tese/modelo_foguete/modelo_foguete/sensitiviy_analysis/sens_pso.ipynb#X11sZmlsZQ%3D%3D?line=20'>21</a>\u001b[0m                                     )\n\u001b[0;32m---> <a href='vscode-notebook-cell:/Users/pdcos/Documents/Estudos/Mestrado/Tese/modelo_foguete/modelo_foguete/sensitiviy_analysis/sens_pso.ipynb#X11sZmlsZQ%3D%3D?line=22'>23</a>\u001b[0m best_solutions \u001b[39m=\u001b[39m de_alg\u001b[39m.\u001b[39;49mfit()\n\u001b[1;32m     <a href='vscode-notebook-cell:/Users/pdcos/Documents/Estudos/Mestrado/Tese/modelo_foguete/modelo_foguete/sensitiviy_analysis/sens_pso.ipynb#X11sZmlsZQ%3D%3D?line=24'>25</a>\u001b[0m dict_save \u001b[39m=\u001b[39m {\u001b[39m'\u001b[39m\u001b[39mglobal_factor\u001b[39m\u001b[39m'\u001b[39m: mutation_rate,\n\u001b[1;32m     <a href='vscode-notebook-cell:/Users/pdcos/Documents/Estudos/Mestrado/Tese/modelo_foguete/modelo_foguete/sensitiviy_analysis/sens_pso.ipynb#X11sZmlsZQ%3D%3D?line=25'>26</a>\u001b[0m              \u001b[39m'\u001b[39m\u001b[39mlocal_factor\u001b[39m\u001b[39m'\u001b[39m: crossover_rate,\n\u001b[1;32m     <a href='vscode-notebook-cell:/Users/pdcos/Documents/Estudos/Mestrado/Tese/modelo_foguete/modelo_foguete/sensitiviy_analysis/sens_pso.ipynb#X11sZmlsZQ%3D%3D?line=26'>27</a>\u001b[0m              \u001b[39m'\u001b[39m\u001b[39mfitness_calls\u001b[39m\u001b[39m'\u001b[39m: de_alg\u001b[39m.\u001b[39mfitness_calls_list\u001b[39m.\u001b[39mtolist(),\n\u001b[0;32m   (...)\u001b[0m\n\u001b[1;32m     <a href='vscode-notebook-cell:/Users/pdcos/Documents/Estudos/Mestrado/Tese/modelo_foguete/modelo_foguete/sensitiviy_analysis/sens_pso.ipynb#X11sZmlsZQ%3D%3D?line=30'>31</a>\u001b[0m              \u001b[39m'\u001b[39m\u001b[39mtotal_time\u001b[39m\u001b[39m'\u001b[39m: de_alg\u001b[39m.\u001b[39mtotal_exec_time,\n\u001b[1;32m     <a href='vscode-notebook-cell:/Users/pdcos/Documents/Estudos/Mestrado/Tese/modelo_foguete/modelo_foguete/sensitiviy_analysis/sens_pso.ipynb#X11sZmlsZQ%3D%3D?line=31'>32</a>\u001b[0m              }\n\u001b[1;32m     <a href='vscode-notebook-cell:/Users/pdcos/Documents/Estudos/Mestrado/Tese/modelo_foguete/modelo_foguete/sensitiviy_analysis/sens_pso.ipynb#X11sZmlsZQ%3D%3D?line=32'>33</a>\u001b[0m simulations_list\u001b[39m.\u001b[39mappend(dict_save)\n",
      "File \u001b[0;32m~/Documents/Estudos/Mestrado/Tese/modelo_foguete/modelo_foguete/sensitiviy_analysis/../optm_algorithms/differential_evolution.py:109\u001b[0m, in \u001b[0;36mDifferentialEvolutionAlgorithm.fit\u001b[0;34m(self)\u001b[0m\n\u001b[1;32m    107\u001b[0m     \u001b[39mself\u001b[39m\u001b[39m.\u001b[39mmutation()\n\u001b[1;32m    108\u001b[0m     \u001b[39mself\u001b[39m\u001b[39m.\u001b[39mcrossover()\n\u001b[0;32m--> 109\u001b[0m     \u001b[39mself\u001b[39;49m\u001b[39m.\u001b[39;49mselection()\n\u001b[1;32m    110\u001b[0m     \u001b[39mself\u001b[39m\u001b[39m.\u001b[39mcallback()\n\u001b[1;32m    111\u001b[0m \u001b[39mself\u001b[39m\u001b[39m.\u001b[39mtotal_exec_time \u001b[39m=\u001b[39m time\u001b[39m.\u001b[39mtime() \u001b[39m-\u001b[39m start_time\n",
      "File \u001b[0;32m~/Documents/Estudos/Mestrado/Tese/modelo_foguete/modelo_foguete/sensitiviy_analysis/../optm_algorithms/differential_evolution.py:80\u001b[0m, in \u001b[0;36mDifferentialEvolutionAlgorithm.selection\u001b[0;34m(self)\u001b[0m\n\u001b[1;32m     78\u001b[0m \u001b[39mdef\u001b[39;00m \u001b[39mselection\u001b[39m(\u001b[39mself\u001b[39m):\n\u001b[1;32m     79\u001b[0m     \u001b[39mself\u001b[39m\u001b[39m.\u001b[39mfitness_x_g \u001b[39m=\u001b[39m \u001b[39mself\u001b[39m\u001b[39m.\u001b[39mfitness_func(\u001b[39mself\u001b[39m\u001b[39m.\u001b[39mx_g, \u001b[39mself\u001b[39m\u001b[39m.\u001b[39mvalue_ranges)\n\u001b[0;32m---> 80\u001b[0m     \u001b[39mself\u001b[39m\u001b[39m.\u001b[39mfitness_u_g \u001b[39m=\u001b[39m \u001b[39mself\u001b[39;49m\u001b[39m.\u001b[39;49mfitness_func(\u001b[39mself\u001b[39;49m\u001b[39m.\u001b[39;49mu_g, \u001b[39mself\u001b[39;49m\u001b[39m.\u001b[39;49mvalue_ranges)\n\u001b[1;32m     81\u001b[0m     \u001b[39mself\u001b[39m\u001b[39m.\u001b[39mfitness_calls_counter \u001b[39m+\u001b[39m\u001b[39m=\u001b[39m \u001b[39m2\u001b[39m\n\u001b[1;32m     83\u001b[0m     replacement_indices \u001b[39m=\u001b[39m \u001b[39mself\u001b[39m\u001b[39m.\u001b[39mfitness_u_g \u001b[39m>\u001b[39m \u001b[39mself\u001b[39m\u001b[39m.\u001b[39mfitness_x_g\n",
      "File \u001b[0;32m~/Documents/Estudos/Mestrado/Tese/modelo_foguete/modelo_foguete/sensitiviy_analysis/../fitness_function.py:153\u001b[0m, in \u001b[0;36mRocketFitness.calc_fitness\u001b[0;34m(self, params_matrix, values_ranges)\u001b[0m\n\u001b[1;32m    148\u001b[0m \u001b[39m# with concurrent.futures.ThreadPoolExecutor(max_workers=self.num_workers) as executor:\u001b[39;00m\n\u001b[1;32m    149\u001b[0m \u001b[39m#     futures = [executor.submit(fitness_func, x) for x in pop]\u001b[39;00m\n\u001b[1;32m    150\u001b[0m \u001b[39m#     results = np.array([future.result() for future in concurrent.futures.as_completed(futures)])\u001b[39;00m\n\u001b[1;32m    151\u001b[0m \u001b[39m#partial_fitness_function = partial(fitness_func, verbose=verbose, reg_model=reg_model)\u001b[39;00m\n\u001b[1;32m    152\u001b[0m pool \u001b[39m=\u001b[39m multiprocessing\u001b[39m.\u001b[39mPool(processes\u001b[39m=\u001b[39m\u001b[39mself\u001b[39m\u001b[39m.\u001b[39mnum_workers)\n\u001b[0;32m--> 153\u001b[0m results \u001b[39m=\u001b[39m pool\u001b[39m.\u001b[39;49mmap(fitness_func, pop)\n\u001b[1;32m    154\u001b[0m pool\u001b[39m.\u001b[39mclose()\n\u001b[1;32m    155\u001b[0m pool\u001b[39m.\u001b[39mjoin()\n",
      "File \u001b[0;32m/opt/homebrew/anaconda3/envs/deeplearning/lib/python3.9/multiprocessing/pool.py:364\u001b[0m, in \u001b[0;36mPool.map\u001b[0;34m(self, func, iterable, chunksize)\u001b[0m\n\u001b[1;32m    359\u001b[0m \u001b[39mdef\u001b[39;00m \u001b[39mmap\u001b[39m(\u001b[39mself\u001b[39m, func, iterable, chunksize\u001b[39m=\u001b[39m\u001b[39mNone\u001b[39;00m):\n\u001b[1;32m    360\u001b[0m \u001b[39m    \u001b[39m\u001b[39m'''\u001b[39;00m\n\u001b[1;32m    361\u001b[0m \u001b[39m    Apply `func` to each element in `iterable`, collecting the results\u001b[39;00m\n\u001b[1;32m    362\u001b[0m \u001b[39m    in a list that is returned.\u001b[39;00m\n\u001b[1;32m    363\u001b[0m \u001b[39m    '''\u001b[39;00m\n\u001b[0;32m--> 364\u001b[0m     \u001b[39mreturn\u001b[39;00m \u001b[39mself\u001b[39;49m\u001b[39m.\u001b[39;49m_map_async(func, iterable, mapstar, chunksize)\u001b[39m.\u001b[39;49mget()\n",
      "File \u001b[0;32m/opt/homebrew/anaconda3/envs/deeplearning/lib/python3.9/multiprocessing/pool.py:765\u001b[0m, in \u001b[0;36mApplyResult.get\u001b[0;34m(self, timeout)\u001b[0m\n\u001b[1;32m    764\u001b[0m \u001b[39mdef\u001b[39;00m \u001b[39mget\u001b[39m(\u001b[39mself\u001b[39m, timeout\u001b[39m=\u001b[39m\u001b[39mNone\u001b[39;00m):\n\u001b[0;32m--> 765\u001b[0m     \u001b[39mself\u001b[39;49m\u001b[39m.\u001b[39;49mwait(timeout)\n\u001b[1;32m    766\u001b[0m     \u001b[39mif\u001b[39;00m \u001b[39mnot\u001b[39;00m \u001b[39mself\u001b[39m\u001b[39m.\u001b[39mready():\n\u001b[1;32m    767\u001b[0m         \u001b[39mraise\u001b[39;00m \u001b[39mTimeoutError\u001b[39;00m\n",
      "File \u001b[0;32m/opt/homebrew/anaconda3/envs/deeplearning/lib/python3.9/multiprocessing/pool.py:762\u001b[0m, in \u001b[0;36mApplyResult.wait\u001b[0;34m(self, timeout)\u001b[0m\n\u001b[1;32m    761\u001b[0m \u001b[39mdef\u001b[39;00m \u001b[39mwait\u001b[39m(\u001b[39mself\u001b[39m, timeout\u001b[39m=\u001b[39m\u001b[39mNone\u001b[39;00m):\n\u001b[0;32m--> 762\u001b[0m     \u001b[39mself\u001b[39;49m\u001b[39m.\u001b[39;49m_event\u001b[39m.\u001b[39;49mwait(timeout)\n",
      "File \u001b[0;32m/opt/homebrew/anaconda3/envs/deeplearning/lib/python3.9/threading.py:581\u001b[0m, in \u001b[0;36mEvent.wait\u001b[0;34m(self, timeout)\u001b[0m\n\u001b[1;32m    579\u001b[0m signaled \u001b[39m=\u001b[39m \u001b[39mself\u001b[39m\u001b[39m.\u001b[39m_flag\n\u001b[1;32m    580\u001b[0m \u001b[39mif\u001b[39;00m \u001b[39mnot\u001b[39;00m signaled:\n\u001b[0;32m--> 581\u001b[0m     signaled \u001b[39m=\u001b[39m \u001b[39mself\u001b[39;49m\u001b[39m.\u001b[39;49m_cond\u001b[39m.\u001b[39;49mwait(timeout)\n\u001b[1;32m    582\u001b[0m \u001b[39mreturn\u001b[39;00m signaled\n",
      "File \u001b[0;32m/opt/homebrew/anaconda3/envs/deeplearning/lib/python3.9/threading.py:312\u001b[0m, in \u001b[0;36mCondition.wait\u001b[0;34m(self, timeout)\u001b[0m\n\u001b[1;32m    310\u001b[0m \u001b[39mtry\u001b[39;00m:    \u001b[39m# restore state no matter what (e.g., KeyboardInterrupt)\u001b[39;00m\n\u001b[1;32m    311\u001b[0m     \u001b[39mif\u001b[39;00m timeout \u001b[39mis\u001b[39;00m \u001b[39mNone\u001b[39;00m:\n\u001b[0;32m--> 312\u001b[0m         waiter\u001b[39m.\u001b[39;49macquire()\n\u001b[1;32m    313\u001b[0m         gotit \u001b[39m=\u001b[39m \u001b[39mTrue\u001b[39;00m\n\u001b[1;32m    314\u001b[0m     \u001b[39melse\u001b[39;00m:\n",
      "\u001b[0;31mKeyboardInterrupt\u001b[0m: "
     ]
    }
   ],
   "source": [
    "\n",
    "def execute_sensitivity_analysis_de(combinations, filename):\n",
    "    \n",
    "    #combinations = [[0.5, 0,5]]\n",
    "\n",
    "    simulations_list = []\n",
    "    for row in tqdm(combinations):\n",
    "        \n",
    "        mutation_rate = row[0]\n",
    "        crossover_rate = row[1]\n",
    "        \n",
    "        de_alg = DifferentialEvolutionAlgorithm(\n",
    "                                            num_epochs=100,\n",
    "                                            pop_size=1000,\n",
    "                                            chrom_length=10,\n",
    "                                            value_ranges=bound_values,\n",
    "                                            mutation_rate=mutation_rate,\n",
    "                                            crossover_rate=crossover_rate,\n",
    "                                            fitness_func=fitness_func_class,\n",
    "                                            verbose=True,\n",
    "                                            eval_every=100,\n",
    "                                            )\n",
    "\n",
    "        best_solutions = de_alg.fit()\n",
    "\n",
    "        dict_save = {'global_factor': mutation_rate,\n",
    "                     'local_factor': crossover_rate,\n",
    "                     'fitness_calls': de_alg.fitness_calls_list.tolist(),\n",
    "                     'best_ind_list': de_alg.best_ind_list.tolist(),\n",
    "                     'avg_ind_list': de_alg.avg_ind_list.tolist(),\n",
    "                     'best_solutions': best_solutions.tolist(),\n",
    "                     'total_time': de_alg.total_exec_time,\n",
    "                     }\n",
    "        simulations_list.append(dict_save)\n",
    "        \n",
    "    with open(filename, 'w') as fout:\n",
    "        json.dump(simulations_list, fout)\n",
    "\n",
    "    return\n",
    "        \n",
    "\n",
    "execute_sensitivity_analysis_de(combinations, 'simulations/de_sensitivity.json')"
   ]
  }
 ],
 "metadata": {
  "kernelspec": {
   "display_name": "deeplearning",
   "language": "python",
   "name": "python3"
  },
  "language_info": {
   "codemirror_mode": {
    "name": "ipython",
    "version": 3
   },
   "file_extension": ".py",
   "mimetype": "text/x-python",
   "name": "python",
   "nbconvert_exporter": "python",
   "pygments_lexer": "ipython3",
   "version": "3.9.18"
  },
  "orig_nbformat": 4
 },
 "nbformat": 4,
 "nbformat_minor": 2
}
