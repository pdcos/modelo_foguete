{
 "cells": [
  {
   "cell_type": "code",
   "execution_count": 5,
   "metadata": {},
   "outputs": [],
   "source": [
    "import sys\n",
    "sys.path.append('../')\n",
    "from optm_algorithms.pso import PSO\n",
    "from optm_algorithms.differential_evolution import DifferentialEvolutionAlgorithm\n",
    "\n",
    "from fitness_function import RocketFitness, bound_values, fitness_func\n",
    "import numpy as np\n",
    "import warnings\n",
    "from tqdm import tqdm\n",
    "import json\n"
   ]
  },
  {
   "cell_type": "code",
   "execution_count": 2,
   "metadata": {},
   "outputs": [],
   "source": [
    "# Inicializando função de fitness\n",
    "rocket_fitness = RocketFitness(bound_values, num_workers=2)\n",
    "random_values = np.random.rand(10,10)\n",
    "fitness_func_class = rocket_fitness.calc_fitness\n"
   ]
  },
  {
   "cell_type": "markdown",
   "metadata": {},
   "source": [
    "# Análise de Sensibilidade do PSO\n",
    "\n",
    "Hiperparâmetros a serem otimizados:\n",
    "- global_factor\n",
    "- speed_factor\n",
    "- v_max\n",
    "\n",
    "Condições:\n",
    "- local_factor + global_factor > 4\n",
    "- todos os hiperparâmetros são maiores que zero"
   ]
  },
  {
   "cell_type": "code",
   "execution_count": null,
   "metadata": {},
   "outputs": [],
   "source": [
    "global_factor_list = np.linspace(1, 6, 5)\n",
    "local_factor_list = np.linspace(1, 6, 5)\n",
    "v_max = np.linspace(1,10,5)\n",
    "grid1, grid2, grid3 = np.meshgrid(global_factor_list, local_factor_list, v_max)\n",
    "\n",
    "combinations = np.vstack((grid1.ravel(), grid2.ravel(), grid3.ravel())).T\n",
    "sum_of_columns = combinations[:, 0] + combinations[:, 1]\n",
    "\n",
    "# Use logical indexing to select rows where the sum of the first and second columns is greater than 4\n",
    "combinations = combinations[sum_of_columns > 4]\n"
   ]
  },
  {
   "cell_type": "code",
   "execution_count": null,
   "metadata": {},
   "outputs": [],
   "source": [
    "combinations.shape"
   ]
  },
  {
   "cell_type": "code",
   "execution_count": 7,
   "metadata": {},
   "outputs": [
    {
     "name": "stderr",
     "output_type": "stream",
     "text": [
      "  0%|          | 0/110 [00:00<?, ?it/s]"
     ]
    },
    {
     "name": "stdout",
     "output_type": "stream",
     "text": [
      "Epoch 0: Best: 0.5688369478323626, Average: 0.21585542982278935\n"
     ]
    },
    {
     "name": "stderr",
     "output_type": "stream",
     "text": []
    },
    {
     "name": "stdout",
     "output_type": "stream",
     "text": [
      "Epoch 10: Best: 0.640870248012924, Average: 0.5560306820705125\n"
     ]
    },
    {
     "name": "stderr",
     "output_type": "stream",
     "text": [
      " 17%|█▋        | 17/100 [00:37<03:04,  2.22s/it]\n",
      "  0%|          | 0/110 [00:40<?, ?it/s]\n"
     ]
    },
    {
     "ename": "KeyboardInterrupt",
     "evalue": "",
     "output_type": "error",
     "traceback": [
      "\u001b[0;31m---------------------------------------------------------------------------\u001b[0m",
      "\u001b[0;31mKeyboardInterrupt\u001b[0m                         Traceback (most recent call last)",
      "\u001b[1;32m/Users/pdcos/Documents/Estudos/Mestrado/Tese/modelo_foguete/modelo_foguete/sensitiviy_analysis/sens_pso.ipynb Célula 6\u001b[0m line \u001b[0;36m4\n\u001b[1;32m     <a href='vscode-notebook-cell:/Users/pdcos/Documents/Estudos/Mestrado/Tese/modelo_foguete/modelo_foguete/sensitiviy_analysis/sens_pso.ipynb#W5sZmlsZQ%3D%3D?line=40'>41</a>\u001b[0m         json\u001b[39m.\u001b[39mdump(simulations_list, fout)\n\u001b[1;32m     <a href='vscode-notebook-cell:/Users/pdcos/Documents/Estudos/Mestrado/Tese/modelo_foguete/modelo_foguete/sensitiviy_analysis/sens_pso.ipynb#W5sZmlsZQ%3D%3D?line=42'>43</a>\u001b[0m     \u001b[39mreturn\u001b[39;00m\n\u001b[0;32m---> <a href='vscode-notebook-cell:/Users/pdcos/Documents/Estudos/Mestrado/Tese/modelo_foguete/modelo_foguete/sensitiviy_analysis/sens_pso.ipynb#W5sZmlsZQ%3D%3D?line=45'>46</a>\u001b[0m execute_sensitivity_analysis(combinations, \u001b[39m'\u001b[39;49m\u001b[39msimulations/pso_sensitivity.json\u001b[39;49m\u001b[39m'\u001b[39;49m)\n",
      "\u001b[1;32m/Users/pdcos/Documents/Estudos/Mestrado/Tese/modelo_foguete/modelo_foguete/sensitiviy_analysis/sens_pso.ipynb Célula 6\u001b[0m line \u001b[0;36m2\n\u001b[1;32m     <a href='vscode-notebook-cell:/Users/pdcos/Documents/Estudos/Mestrado/Tese/modelo_foguete/modelo_foguete/sensitiviy_analysis/sens_pso.ipynb#W5sZmlsZQ%3D%3D?line=9'>10</a>\u001b[0m v_max \u001b[39m=\u001b[39m row[\u001b[39m2\u001b[39m]\n\u001b[1;32m     <a href='vscode-notebook-cell:/Users/pdcos/Documents/Estudos/Mestrado/Tese/modelo_foguete/modelo_foguete/sensitiviy_analysis/sens_pso.ipynb#W5sZmlsZQ%3D%3D?line=11'>12</a>\u001b[0m pso_alg \u001b[39m=\u001b[39m PSO(\n\u001b[1;32m     <a href='vscode-notebook-cell:/Users/pdcos/Documents/Estudos/Mestrado/Tese/modelo_foguete/modelo_foguete/sensitiviy_analysis/sens_pso.ipynb#W5sZmlsZQ%3D%3D?line=12'>13</a>\u001b[0m     num_epochs\u001b[39m=\u001b[39m\u001b[39m100\u001b[39m,\n\u001b[1;32m     <a href='vscode-notebook-cell:/Users/pdcos/Documents/Estudos/Mestrado/Tese/modelo_foguete/modelo_foguete/sensitiviy_analysis/sens_pso.ipynb#W5sZmlsZQ%3D%3D?line=13'>14</a>\u001b[0m     pop_size\u001b[39m=\u001b[39m\u001b[39m1000\u001b[39m,\n\u001b[0;32m   (...)\u001b[0m\n\u001b[1;32m     <a href='vscode-notebook-cell:/Users/pdcos/Documents/Estudos/Mestrado/Tese/modelo_foguete/modelo_foguete/sensitiviy_analysis/sens_pso.ipynb#W5sZmlsZQ%3D%3D?line=24'>25</a>\u001b[0m     eval_every\u001b[39m=\u001b[39m\u001b[39m10\u001b[39m,\n\u001b[1;32m     <a href='vscode-notebook-cell:/Users/pdcos/Documents/Estudos/Mestrado/Tese/modelo_foguete/modelo_foguete/sensitiviy_analysis/sens_pso.ipynb#W5sZmlsZQ%3D%3D?line=25'>26</a>\u001b[0m     )\n\u001b[0;32m---> <a href='vscode-notebook-cell:/Users/pdcos/Documents/Estudos/Mestrado/Tese/modelo_foguete/modelo_foguete/sensitiviy_analysis/sens_pso.ipynb#W5sZmlsZQ%3D%3D?line=27'>28</a>\u001b[0m best_solutions \u001b[39m=\u001b[39m pso_alg\u001b[39m.\u001b[39;49mfit()\n\u001b[1;32m     <a href='vscode-notebook-cell:/Users/pdcos/Documents/Estudos/Mestrado/Tese/modelo_foguete/modelo_foguete/sensitiviy_analysis/sens_pso.ipynb#W5sZmlsZQ%3D%3D?line=29'>30</a>\u001b[0m dict_save \u001b[39m=\u001b[39m {\u001b[39m'\u001b[39m\u001b[39mglobal_factor\u001b[39m\u001b[39m'\u001b[39m: global_factor,\n\u001b[1;32m     <a href='vscode-notebook-cell:/Users/pdcos/Documents/Estudos/Mestrado/Tese/modelo_foguete/modelo_foguete/sensitiviy_analysis/sens_pso.ipynb#W5sZmlsZQ%3D%3D?line=30'>31</a>\u001b[0m              \u001b[39m'\u001b[39m\u001b[39mlocal_factor\u001b[39m\u001b[39m'\u001b[39m: local_factor,\n\u001b[1;32m     <a href='vscode-notebook-cell:/Users/pdcos/Documents/Estudos/Mestrado/Tese/modelo_foguete/modelo_foguete/sensitiviy_analysis/sens_pso.ipynb#W5sZmlsZQ%3D%3D?line=31'>32</a>\u001b[0m              \u001b[39m'\u001b[39m\u001b[39mv_max\u001b[39m\u001b[39m'\u001b[39m: v_max,\n\u001b[0;32m   (...)\u001b[0m\n\u001b[1;32m     <a href='vscode-notebook-cell:/Users/pdcos/Documents/Estudos/Mestrado/Tese/modelo_foguete/modelo_foguete/sensitiviy_analysis/sens_pso.ipynb#W5sZmlsZQ%3D%3D?line=35'>36</a>\u001b[0m              \u001b[39m'\u001b[39m\u001b[39mbest_solutions\u001b[39m\u001b[39m'\u001b[39m: best_solutions\u001b[39m.\u001b[39mtolist()\n\u001b[1;32m     <a href='vscode-notebook-cell:/Users/pdcos/Documents/Estudos/Mestrado/Tese/modelo_foguete/modelo_foguete/sensitiviy_analysis/sens_pso.ipynb#W5sZmlsZQ%3D%3D?line=36'>37</a>\u001b[0m              }\n\u001b[1;32m     <a href='vscode-notebook-cell:/Users/pdcos/Documents/Estudos/Mestrado/Tese/modelo_foguete/modelo_foguete/sensitiviy_analysis/sens_pso.ipynb#W5sZmlsZQ%3D%3D?line=37'>38</a>\u001b[0m simulations_list\u001b[39m.\u001b[39mappend(dict_save)\n",
      "File \u001b[0;32m~/Documents/Estudos/Mestrado/Tese/modelo_foguete/modelo_foguete/sensitiviy_analysis/../optm_algorithms/pso.py:145\u001b[0m, in \u001b[0;36mPSO.fit\u001b[0;34m(self)\u001b[0m\n\u001b[1;32m    143\u001b[0m \u001b[39mfor\u001b[39;00m epoch \u001b[39min\u001b[39;00m tqdm(\u001b[39mrange\u001b[39m(\u001b[39mself\u001b[39m\u001b[39m.\u001b[39mnum_epochs)):\n\u001b[1;32m    144\u001b[0m     \u001b[39mself\u001b[39m\u001b[39m.\u001b[39mcurr_epoch \u001b[39m=\u001b[39m epoch\n\u001b[0;32m--> 145\u001b[0m     \u001b[39mself\u001b[39;49m\u001b[39m.\u001b[39;49mcalculate_fitness()\n\u001b[1;32m    146\u001b[0m     \u001b[39mself\u001b[39m\u001b[39m.\u001b[39mupdate_gbest()\n\u001b[1;32m    147\u001b[0m     \u001b[39mself\u001b[39m\u001b[39m.\u001b[39mupdate_pbest()\n",
      "File \u001b[0;32m~/Documents/Estudos/Mestrado/Tese/modelo_foguete/modelo_foguete/sensitiviy_analysis/../optm_algorithms/pso.py:74\u001b[0m, in \u001b[0;36mPSO.calculate_fitness\u001b[0;34m(self)\u001b[0m\n\u001b[1;32m     73\u001b[0m \u001b[39mdef\u001b[39;00m \u001b[39mcalculate_fitness\u001b[39m(\u001b[39mself\u001b[39m):\n\u001b[0;32m---> 74\u001b[0m     \u001b[39mself\u001b[39m\u001b[39m.\u001b[39mf_x_i \u001b[39m=\u001b[39m \u001b[39mself\u001b[39;49m\u001b[39m.\u001b[39;49mfitness_func(\u001b[39mself\u001b[39;49m\u001b[39m.\u001b[39;49mx_i)\u001b[39m.\u001b[39mcopy()\n\u001b[1;32m     75\u001b[0m     \u001b[39m# Increment fitness calls counter\u001b[39;00m\n\u001b[1;32m     76\u001b[0m     \u001b[39mself\u001b[39m\u001b[39m.\u001b[39mfitness_calls_counter \u001b[39m+\u001b[39m\u001b[39m=\u001b[39m \u001b[39m1\u001b[39m\n",
      "File \u001b[0;32m~/Documents/Estudos/Mestrado/Tese/modelo_foguete/modelo_foguete/sensitiviy_analysis/../fitness_function.py:153\u001b[0m, in \u001b[0;36mRocketFitness.calc_fitness\u001b[0;34m(self, params_matrix)\u001b[0m\n\u001b[1;32m    148\u001b[0m \u001b[39m# with concurrent.futures.ThreadPoolExecutor(max_workers=self.num_workers) as executor:\u001b[39;00m\n\u001b[1;32m    149\u001b[0m \u001b[39m#     futures = [executor.submit(fitness_func, x) for x in pop]\u001b[39;00m\n\u001b[1;32m    150\u001b[0m \u001b[39m#     results = np.array([future.result() for future in concurrent.futures.as_completed(futures)])\u001b[39;00m\n\u001b[1;32m    151\u001b[0m \u001b[39m#partial_fitness_function = partial(fitness_func, verbose=verbose, reg_model=reg_model)\u001b[39;00m\n\u001b[1;32m    152\u001b[0m pool \u001b[39m=\u001b[39m multiprocessing\u001b[39m.\u001b[39mPool(processes\u001b[39m=\u001b[39m\u001b[39mself\u001b[39m\u001b[39m.\u001b[39mnum_workers)\n\u001b[0;32m--> 153\u001b[0m results \u001b[39m=\u001b[39m pool\u001b[39m.\u001b[39;49mmap(fitness_func, pop)\n\u001b[1;32m    154\u001b[0m pool\u001b[39m.\u001b[39mclose()\n\u001b[1;32m    155\u001b[0m pool\u001b[39m.\u001b[39mjoin()\n",
      "File \u001b[0;32m/opt/homebrew/anaconda3/envs/deeplearning/lib/python3.9/multiprocessing/pool.py:364\u001b[0m, in \u001b[0;36mPool.map\u001b[0;34m(self, func, iterable, chunksize)\u001b[0m\n\u001b[1;32m    359\u001b[0m \u001b[39mdef\u001b[39;00m \u001b[39mmap\u001b[39m(\u001b[39mself\u001b[39m, func, iterable, chunksize\u001b[39m=\u001b[39m\u001b[39mNone\u001b[39;00m):\n\u001b[1;32m    360\u001b[0m \u001b[39m    \u001b[39m\u001b[39m'''\u001b[39;00m\n\u001b[1;32m    361\u001b[0m \u001b[39m    Apply `func` to each element in `iterable`, collecting the results\u001b[39;00m\n\u001b[1;32m    362\u001b[0m \u001b[39m    in a list that is returned.\u001b[39;00m\n\u001b[1;32m    363\u001b[0m \u001b[39m    '''\u001b[39;00m\n\u001b[0;32m--> 364\u001b[0m     \u001b[39mreturn\u001b[39;00m \u001b[39mself\u001b[39;49m\u001b[39m.\u001b[39;49m_map_async(func, iterable, mapstar, chunksize)\u001b[39m.\u001b[39;49mget()\n",
      "File \u001b[0;32m/opt/homebrew/anaconda3/envs/deeplearning/lib/python3.9/multiprocessing/pool.py:765\u001b[0m, in \u001b[0;36mApplyResult.get\u001b[0;34m(self, timeout)\u001b[0m\n\u001b[1;32m    764\u001b[0m \u001b[39mdef\u001b[39;00m \u001b[39mget\u001b[39m(\u001b[39mself\u001b[39m, timeout\u001b[39m=\u001b[39m\u001b[39mNone\u001b[39;00m):\n\u001b[0;32m--> 765\u001b[0m     \u001b[39mself\u001b[39;49m\u001b[39m.\u001b[39;49mwait(timeout)\n\u001b[1;32m    766\u001b[0m     \u001b[39mif\u001b[39;00m \u001b[39mnot\u001b[39;00m \u001b[39mself\u001b[39m\u001b[39m.\u001b[39mready():\n\u001b[1;32m    767\u001b[0m         \u001b[39mraise\u001b[39;00m \u001b[39mTimeoutError\u001b[39;00m\n",
      "File \u001b[0;32m/opt/homebrew/anaconda3/envs/deeplearning/lib/python3.9/multiprocessing/pool.py:762\u001b[0m, in \u001b[0;36mApplyResult.wait\u001b[0;34m(self, timeout)\u001b[0m\n\u001b[1;32m    761\u001b[0m \u001b[39mdef\u001b[39;00m \u001b[39mwait\u001b[39m(\u001b[39mself\u001b[39m, timeout\u001b[39m=\u001b[39m\u001b[39mNone\u001b[39;00m):\n\u001b[0;32m--> 762\u001b[0m     \u001b[39mself\u001b[39;49m\u001b[39m.\u001b[39;49m_event\u001b[39m.\u001b[39;49mwait(timeout)\n",
      "File \u001b[0;32m/opt/homebrew/anaconda3/envs/deeplearning/lib/python3.9/threading.py:581\u001b[0m, in \u001b[0;36mEvent.wait\u001b[0;34m(self, timeout)\u001b[0m\n\u001b[1;32m    579\u001b[0m signaled \u001b[39m=\u001b[39m \u001b[39mself\u001b[39m\u001b[39m.\u001b[39m_flag\n\u001b[1;32m    580\u001b[0m \u001b[39mif\u001b[39;00m \u001b[39mnot\u001b[39;00m signaled:\n\u001b[0;32m--> 581\u001b[0m     signaled \u001b[39m=\u001b[39m \u001b[39mself\u001b[39;49m\u001b[39m.\u001b[39;49m_cond\u001b[39m.\u001b[39;49mwait(timeout)\n\u001b[1;32m    582\u001b[0m \u001b[39mreturn\u001b[39;00m signaled\n",
      "File \u001b[0;32m/opt/homebrew/anaconda3/envs/deeplearning/lib/python3.9/threading.py:312\u001b[0m, in \u001b[0;36mCondition.wait\u001b[0;34m(self, timeout)\u001b[0m\n\u001b[1;32m    310\u001b[0m \u001b[39mtry\u001b[39;00m:    \u001b[39m# restore state no matter what (e.g., KeyboardInterrupt)\u001b[39;00m\n\u001b[1;32m    311\u001b[0m     \u001b[39mif\u001b[39;00m timeout \u001b[39mis\u001b[39;00m \u001b[39mNone\u001b[39;00m:\n\u001b[0;32m--> 312\u001b[0m         waiter\u001b[39m.\u001b[39;49macquire()\n\u001b[1;32m    313\u001b[0m         gotit \u001b[39m=\u001b[39m \u001b[39mTrue\u001b[39;00m\n\u001b[1;32m    314\u001b[0m     \u001b[39melse\u001b[39;00m:\n",
      "\u001b[0;31mKeyboardInterrupt\u001b[0m: "
     ]
    }
   ],
   "source": [
    "\n",
    "def execute_sensitivity_analysis_pso(combinations, filename):\n",
    "    \n",
    "    #combinations = [[2.05, 2.05, 1],[2.05, 2.05, 1]]\n",
    "\n",
    "    simulations_list = []\n",
    "    for row in tqdm(combinations):\n",
    "        \n",
    "        global_factor = row[0]\n",
    "        local_factor = row[1]\n",
    "        v_max = row[2]\n",
    "        \n",
    "        pso_alg = PSO(\n",
    "            num_epochs=50,\n",
    "            pop_size=1000,\n",
    "            chrom_length=10,\n",
    "            n_best=2,\n",
    "            global_factor = global_factor,\n",
    "            local_factor = local_factor,\n",
    "            speed_factor = 1,\n",
    "            v_max=v_max,\n",
    "            value_ranges=bound_values,\n",
    "            fitness_func=fitness_func_class,\n",
    "            neighborhood_mode='self',\n",
    "            verbose=True,\n",
    "            eval_every=100,\n",
    "            )\n",
    "\n",
    "        best_solutions = pso_alg.fit()\n",
    "\n",
    "        dict_save = {'global_factor': global_factor,\n",
    "                     'local_factor': local_factor,\n",
    "                     'v_max': v_max,\n",
    "                     'fitness_calls': pso_alg.fitness_calls_list.tolist(),\n",
    "                     'best_ind_list': pso_alg.best_ind_list.tolist(),\n",
    "                     'avg_ind_list': pso_alg.avg_ind_list.tolist(),\n",
    "                     'best_solutions': best_solutions.tolist()\n",
    "                     }\n",
    "        simulations_list.append(dict_save)\n",
    "        \n",
    "    with open(filename, 'w') as fout:\n",
    "        json.dump(simulations_list, fout)\n",
    "\n",
    "    return\n",
    "        \n",
    "\n",
    "execute_sensitivity_analysis(combinations, 'simulations/pso_sensitivity.json')"
   ]
  },
  {
   "cell_type": "markdown",
   "metadata": {},
   "source": [
    "# Análise de Sensibilidade da Evol ução Diferencial\n",
    "\n",
    "Hiperparâmetros a serem otimizados:\n",
    "- mutation_rate\n",
    "- crossover_rate\n",
    "\n",
    "Condições:\n",
    "- mutation_rate e crossover_rate <=1\n"
   ]
  },
  {
   "cell_type": "code",
   "execution_count": 4,
   "metadata": {},
   "outputs": [],
   "source": [
    "mutation_rate = np.linspace(0.1, 1, 10)\n",
    "crossover_rate = np.linspace(0.1, 1,10)\n",
    "grid1, grid2 = np.meshgrid(mutation_rate, crossover_rate)\n",
    "combinations = np.vstack((grid1.ravel(), grid2.ravel())).T"
   ]
  },
  {
   "cell_type": "code",
   "execution_count": 6,
   "metadata": {},
   "outputs": [
    {
     "name": "stderr",
     "output_type": "stream",
     "text": [
      "  0%|          | 0/100 [00:00<?, ?it/s]"
     ]
    },
    {
     "name": "stdout",
     "output_type": "stream",
     "text": [
      "Epoch 0: Best: 0.6038441694924939, Average: 0.2694994131695926\n"
     ]
    },
    {
     "name": "stderr",
     "output_type": "stream",
     "text": [
      "100%|██████████| 5/5 [00:25<00:00,  5.13s/it]\n",
      "  1%|          | 1/100 [00:25<42:22, 25.68s/it]"
     ]
    },
    {
     "name": "stdout",
     "output_type": "stream",
     "text": [
      "--- 25.676862955093384 seconds ---\n"
     ]
    },
    {
     "name": "stderr",
     "output_type": "stream",
     "text": []
    },
    {
     "name": "stdout",
     "output_type": "stream",
     "text": [
      "Epoch 0: Best: 0.6038441694924939, Average: 0.2694994131695926\n"
     ]
    },
    {
     "name": "stderr",
     "output_type": "stream",
     "text": [
      " 40%|████      | 2/5 [00:12<00:19,  6.39s/it]\n",
      "  1%|          | 1/100 [00:38<1:03:27, 38.46s/it]\n"
     ]
    },
    {
     "ename": "KeyboardInterrupt",
     "evalue": "",
     "output_type": "error",
     "traceback": [
      "\u001b[0;31m---------------------------------------------------------------------------\u001b[0m",
      "\u001b[0;31mKeyboardInterrupt\u001b[0m                         Traceback (most recent call last)",
      "\u001b[1;32m/Users/pdcos/Documents/Estudos/Mestrado/Tese/modelo_foguete/modelo_foguete/sensitiviy_analysis/sens_pso.ipynb Célula 9\u001b[0m line \u001b[0;36m3\n\u001b[1;32m     <a href='vscode-notebook-cell:/Users/pdcos/Documents/Estudos/Mestrado/Tese/modelo_foguete/modelo_foguete/sensitiviy_analysis/sens_pso.ipynb#X11sZmlsZQ%3D%3D?line=33'>34</a>\u001b[0m         json\u001b[39m.\u001b[39mdump(simulations_list, fout)\n\u001b[1;32m     <a href='vscode-notebook-cell:/Users/pdcos/Documents/Estudos/Mestrado/Tese/modelo_foguete/modelo_foguete/sensitiviy_analysis/sens_pso.ipynb#X11sZmlsZQ%3D%3D?line=35'>36</a>\u001b[0m     \u001b[39mreturn\u001b[39;00m\n\u001b[0;32m---> <a href='vscode-notebook-cell:/Users/pdcos/Documents/Estudos/Mestrado/Tese/modelo_foguete/modelo_foguete/sensitiviy_analysis/sens_pso.ipynb#X11sZmlsZQ%3D%3D?line=38'>39</a>\u001b[0m execute_sensitivity_analysis_de(combinations, \u001b[39m'\u001b[39;49m\u001b[39msimulations/de_sensitivity.json\u001b[39;49m\u001b[39m'\u001b[39;49m)\n",
      "\u001b[1;32m/Users/pdcos/Documents/Estudos/Mestrado/Tese/modelo_foguete/modelo_foguete/sensitiviy_analysis/sens_pso.ipynb Célula 9\u001b[0m line \u001b[0;36m2\n\u001b[1;32m      <a href='vscode-notebook-cell:/Users/pdcos/Documents/Estudos/Mestrado/Tese/modelo_foguete/modelo_foguete/sensitiviy_analysis/sens_pso.ipynb#X11sZmlsZQ%3D%3D?line=8'>9</a>\u001b[0m crossover_rate \u001b[39m=\u001b[39m row[\u001b[39m1\u001b[39m]\n\u001b[1;32m     <a href='vscode-notebook-cell:/Users/pdcos/Documents/Estudos/Mestrado/Tese/modelo_foguete/modelo_foguete/sensitiviy_analysis/sens_pso.ipynb#X11sZmlsZQ%3D%3D?line=10'>11</a>\u001b[0m de_alg \u001b[39m=\u001b[39m DifferentialEvolutionAlgorithm(\n\u001b[1;32m     <a href='vscode-notebook-cell:/Users/pdcos/Documents/Estudos/Mestrado/Tese/modelo_foguete/modelo_foguete/sensitiviy_analysis/sens_pso.ipynb#X11sZmlsZQ%3D%3D?line=11'>12</a>\u001b[0m                                     num_epochs\u001b[39m=\u001b[39m\u001b[39m5\u001b[39m,\n\u001b[1;32m     <a href='vscode-notebook-cell:/Users/pdcos/Documents/Estudos/Mestrado/Tese/modelo_foguete/modelo_foguete/sensitiviy_analysis/sens_pso.ipynb#X11sZmlsZQ%3D%3D?line=12'>13</a>\u001b[0m                                     pop_size\u001b[39m=\u001b[39m\u001b[39m1000\u001b[39m,\n\u001b[0;32m   (...)\u001b[0m\n\u001b[1;32m     <a href='vscode-notebook-cell:/Users/pdcos/Documents/Estudos/Mestrado/Tese/modelo_foguete/modelo_foguete/sensitiviy_analysis/sens_pso.ipynb#X11sZmlsZQ%3D%3D?line=18'>19</a>\u001b[0m                                     eval_every\u001b[39m=\u001b[39m\u001b[39m10\u001b[39m,\n\u001b[1;32m     <a href='vscode-notebook-cell:/Users/pdcos/Documents/Estudos/Mestrado/Tese/modelo_foguete/modelo_foguete/sensitiviy_analysis/sens_pso.ipynb#X11sZmlsZQ%3D%3D?line=19'>20</a>\u001b[0m                                     )\n\u001b[0;32m---> <a href='vscode-notebook-cell:/Users/pdcos/Documents/Estudos/Mestrado/Tese/modelo_foguete/modelo_foguete/sensitiviy_analysis/sens_pso.ipynb#X11sZmlsZQ%3D%3D?line=21'>22</a>\u001b[0m best_solutions \u001b[39m=\u001b[39m de_alg\u001b[39m.\u001b[39;49mfit()\n\u001b[1;32m     <a href='vscode-notebook-cell:/Users/pdcos/Documents/Estudos/Mestrado/Tese/modelo_foguete/modelo_foguete/sensitiviy_analysis/sens_pso.ipynb#X11sZmlsZQ%3D%3D?line=23'>24</a>\u001b[0m dict_save \u001b[39m=\u001b[39m {\u001b[39m'\u001b[39m\u001b[39mglobal_factor\u001b[39m\u001b[39m'\u001b[39m: mutation_rate,\n\u001b[1;32m     <a href='vscode-notebook-cell:/Users/pdcos/Documents/Estudos/Mestrado/Tese/modelo_foguete/modelo_foguete/sensitiviy_analysis/sens_pso.ipynb#X11sZmlsZQ%3D%3D?line=24'>25</a>\u001b[0m              \u001b[39m'\u001b[39m\u001b[39mlocal_factor\u001b[39m\u001b[39m'\u001b[39m: crossover_rate,\n\u001b[1;32m     <a href='vscode-notebook-cell:/Users/pdcos/Documents/Estudos/Mestrado/Tese/modelo_foguete/modelo_foguete/sensitiviy_analysis/sens_pso.ipynb#X11sZmlsZQ%3D%3D?line=25'>26</a>\u001b[0m              \u001b[39m'\u001b[39m\u001b[39mfitness_calls\u001b[39m\u001b[39m'\u001b[39m: de_alg\u001b[39m.\u001b[39mfitness_calls_list\u001b[39m.\u001b[39mtolist(),\n\u001b[0;32m   (...)\u001b[0m\n\u001b[1;32m     <a href='vscode-notebook-cell:/Users/pdcos/Documents/Estudos/Mestrado/Tese/modelo_foguete/modelo_foguete/sensitiviy_analysis/sens_pso.ipynb#X11sZmlsZQ%3D%3D?line=28'>29</a>\u001b[0m              \u001b[39m'\u001b[39m\u001b[39mbest_solutions\u001b[39m\u001b[39m'\u001b[39m: best_solutions\u001b[39m.\u001b[39mtolist()\n\u001b[1;32m     <a href='vscode-notebook-cell:/Users/pdcos/Documents/Estudos/Mestrado/Tese/modelo_foguete/modelo_foguete/sensitiviy_analysis/sens_pso.ipynb#X11sZmlsZQ%3D%3D?line=29'>30</a>\u001b[0m              }\n\u001b[1;32m     <a href='vscode-notebook-cell:/Users/pdcos/Documents/Estudos/Mestrado/Tese/modelo_foguete/modelo_foguete/sensitiviy_analysis/sens_pso.ipynb#X11sZmlsZQ%3D%3D?line=30'>31</a>\u001b[0m simulations_list\u001b[39m.\u001b[39mappend(dict_save)\n",
      "File \u001b[0;32m~/Documents/Estudos/Mestrado/Tese/modelo_foguete/modelo_foguete/sensitiviy_analysis/../optm_algorithms/differential_evolution.py:109\u001b[0m, in \u001b[0;36mDifferentialEvolutionAlgorithm.fit\u001b[0;34m(self)\u001b[0m\n\u001b[1;32m    107\u001b[0m     \u001b[39mself\u001b[39m\u001b[39m.\u001b[39mmutation()\n\u001b[1;32m    108\u001b[0m     \u001b[39mself\u001b[39m\u001b[39m.\u001b[39mcrossover()\n\u001b[0;32m--> 109\u001b[0m     \u001b[39mself\u001b[39;49m\u001b[39m.\u001b[39;49mselection()\n\u001b[1;32m    110\u001b[0m     \u001b[39mself\u001b[39m\u001b[39m.\u001b[39mcallback()\n\u001b[1;32m    111\u001b[0m \u001b[39mprint\u001b[39m(\u001b[39m\"\u001b[39m\u001b[39m--- \u001b[39m\u001b[39m%s\u001b[39;00m\u001b[39m seconds ---\u001b[39m\u001b[39m\"\u001b[39m \u001b[39m%\u001b[39m (time\u001b[39m.\u001b[39mtime() \u001b[39m-\u001b[39m start_time))\n",
      "File \u001b[0;32m~/Documents/Estudos/Mestrado/Tese/modelo_foguete/modelo_foguete/sensitiviy_analysis/../optm_algorithms/differential_evolution.py:80\u001b[0m, in \u001b[0;36mDifferentialEvolutionAlgorithm.selection\u001b[0;34m(self)\u001b[0m\n\u001b[1;32m     78\u001b[0m \u001b[39mdef\u001b[39;00m \u001b[39mselection\u001b[39m(\u001b[39mself\u001b[39m):\n\u001b[1;32m     79\u001b[0m     \u001b[39mself\u001b[39m\u001b[39m.\u001b[39mfitness_x_g \u001b[39m=\u001b[39m \u001b[39mself\u001b[39m\u001b[39m.\u001b[39mfitness_func(\u001b[39mself\u001b[39m\u001b[39m.\u001b[39mx_g, \u001b[39mself\u001b[39m\u001b[39m.\u001b[39mvalue_ranges)\n\u001b[0;32m---> 80\u001b[0m     \u001b[39mself\u001b[39m\u001b[39m.\u001b[39mfitness_u_g \u001b[39m=\u001b[39m \u001b[39mself\u001b[39;49m\u001b[39m.\u001b[39;49mfitness_func(\u001b[39mself\u001b[39;49m\u001b[39m.\u001b[39;49mu_g, \u001b[39mself\u001b[39;49m\u001b[39m.\u001b[39;49mvalue_ranges)\n\u001b[1;32m     81\u001b[0m     \u001b[39mself\u001b[39m\u001b[39m.\u001b[39mfitness_calls_counter \u001b[39m+\u001b[39m\u001b[39m=\u001b[39m \u001b[39m2\u001b[39m\n\u001b[1;32m     83\u001b[0m     replacement_indices \u001b[39m=\u001b[39m \u001b[39mself\u001b[39m\u001b[39m.\u001b[39mfitness_u_g \u001b[39m>\u001b[39m \u001b[39mself\u001b[39m\u001b[39m.\u001b[39mfitness_x_g\n",
      "File \u001b[0;32m~/Documents/Estudos/Mestrado/Tese/modelo_foguete/modelo_foguete/sensitiviy_analysis/../fitness_function.py:153\u001b[0m, in \u001b[0;36mRocketFitness.calc_fitness\u001b[0;34m(self, params_matrix, values_ranges)\u001b[0m\n\u001b[1;32m    148\u001b[0m \u001b[39m# with concurrent.futures.ThreadPoolExecutor(max_workers=self.num_workers) as executor:\u001b[39;00m\n\u001b[1;32m    149\u001b[0m \u001b[39m#     futures = [executor.submit(fitness_func, x) for x in pop]\u001b[39;00m\n\u001b[1;32m    150\u001b[0m \u001b[39m#     results = np.array([future.result() for future in concurrent.futures.as_completed(futures)])\u001b[39;00m\n\u001b[1;32m    151\u001b[0m \u001b[39m#partial_fitness_function = partial(fitness_func, verbose=verbose, reg_model=reg_model)\u001b[39;00m\n\u001b[1;32m    152\u001b[0m pool \u001b[39m=\u001b[39m multiprocessing\u001b[39m.\u001b[39mPool(processes\u001b[39m=\u001b[39m\u001b[39mself\u001b[39m\u001b[39m.\u001b[39mnum_workers)\n\u001b[0;32m--> 153\u001b[0m results \u001b[39m=\u001b[39m pool\u001b[39m.\u001b[39;49mmap(fitness_func, pop)\n\u001b[1;32m    154\u001b[0m pool\u001b[39m.\u001b[39mclose()\n\u001b[1;32m    155\u001b[0m pool\u001b[39m.\u001b[39mjoin()\n",
      "File \u001b[0;32m/opt/homebrew/anaconda3/envs/deeplearning/lib/python3.9/multiprocessing/pool.py:364\u001b[0m, in \u001b[0;36mPool.map\u001b[0;34m(self, func, iterable, chunksize)\u001b[0m\n\u001b[1;32m    359\u001b[0m \u001b[39mdef\u001b[39;00m \u001b[39mmap\u001b[39m(\u001b[39mself\u001b[39m, func, iterable, chunksize\u001b[39m=\u001b[39m\u001b[39mNone\u001b[39;00m):\n\u001b[1;32m    360\u001b[0m \u001b[39m    \u001b[39m\u001b[39m'''\u001b[39;00m\n\u001b[1;32m    361\u001b[0m \u001b[39m    Apply `func` to each element in `iterable`, collecting the results\u001b[39;00m\n\u001b[1;32m    362\u001b[0m \u001b[39m    in a list that is returned.\u001b[39;00m\n\u001b[1;32m    363\u001b[0m \u001b[39m    '''\u001b[39;00m\n\u001b[0;32m--> 364\u001b[0m     \u001b[39mreturn\u001b[39;00m \u001b[39mself\u001b[39;49m\u001b[39m.\u001b[39;49m_map_async(func, iterable, mapstar, chunksize)\u001b[39m.\u001b[39;49mget()\n",
      "File \u001b[0;32m/opt/homebrew/anaconda3/envs/deeplearning/lib/python3.9/multiprocessing/pool.py:765\u001b[0m, in \u001b[0;36mApplyResult.get\u001b[0;34m(self, timeout)\u001b[0m\n\u001b[1;32m    764\u001b[0m \u001b[39mdef\u001b[39;00m \u001b[39mget\u001b[39m(\u001b[39mself\u001b[39m, timeout\u001b[39m=\u001b[39m\u001b[39mNone\u001b[39;00m):\n\u001b[0;32m--> 765\u001b[0m     \u001b[39mself\u001b[39;49m\u001b[39m.\u001b[39;49mwait(timeout)\n\u001b[1;32m    766\u001b[0m     \u001b[39mif\u001b[39;00m \u001b[39mnot\u001b[39;00m \u001b[39mself\u001b[39m\u001b[39m.\u001b[39mready():\n\u001b[1;32m    767\u001b[0m         \u001b[39mraise\u001b[39;00m \u001b[39mTimeoutError\u001b[39;00m\n",
      "File \u001b[0;32m/opt/homebrew/anaconda3/envs/deeplearning/lib/python3.9/multiprocessing/pool.py:762\u001b[0m, in \u001b[0;36mApplyResult.wait\u001b[0;34m(self, timeout)\u001b[0m\n\u001b[1;32m    761\u001b[0m \u001b[39mdef\u001b[39;00m \u001b[39mwait\u001b[39m(\u001b[39mself\u001b[39m, timeout\u001b[39m=\u001b[39m\u001b[39mNone\u001b[39;00m):\n\u001b[0;32m--> 762\u001b[0m     \u001b[39mself\u001b[39;49m\u001b[39m.\u001b[39;49m_event\u001b[39m.\u001b[39;49mwait(timeout)\n",
      "File \u001b[0;32m/opt/homebrew/anaconda3/envs/deeplearning/lib/python3.9/threading.py:581\u001b[0m, in \u001b[0;36mEvent.wait\u001b[0;34m(self, timeout)\u001b[0m\n\u001b[1;32m    579\u001b[0m signaled \u001b[39m=\u001b[39m \u001b[39mself\u001b[39m\u001b[39m.\u001b[39m_flag\n\u001b[1;32m    580\u001b[0m \u001b[39mif\u001b[39;00m \u001b[39mnot\u001b[39;00m signaled:\n\u001b[0;32m--> 581\u001b[0m     signaled \u001b[39m=\u001b[39m \u001b[39mself\u001b[39;49m\u001b[39m.\u001b[39;49m_cond\u001b[39m.\u001b[39;49mwait(timeout)\n\u001b[1;32m    582\u001b[0m \u001b[39mreturn\u001b[39;00m signaled\n",
      "File \u001b[0;32m/opt/homebrew/anaconda3/envs/deeplearning/lib/python3.9/threading.py:312\u001b[0m, in \u001b[0;36mCondition.wait\u001b[0;34m(self, timeout)\u001b[0m\n\u001b[1;32m    310\u001b[0m \u001b[39mtry\u001b[39;00m:    \u001b[39m# restore state no matter what (e.g., KeyboardInterrupt)\u001b[39;00m\n\u001b[1;32m    311\u001b[0m     \u001b[39mif\u001b[39;00m timeout \u001b[39mis\u001b[39;00m \u001b[39mNone\u001b[39;00m:\n\u001b[0;32m--> 312\u001b[0m         waiter\u001b[39m.\u001b[39;49macquire()\n\u001b[1;32m    313\u001b[0m         gotit \u001b[39m=\u001b[39m \u001b[39mTrue\u001b[39;00m\n\u001b[1;32m    314\u001b[0m     \u001b[39melse\u001b[39;00m:\n",
      "\u001b[0;31mKeyboardInterrupt\u001b[0m: "
     ]
    }
   ],
   "source": [
    "\n",
    "def execute_sensitivity_analysis_de(combinations, filename):\n",
    "    \n",
    "    combinations = [[0.5, 0,5]]\n",
    "\n",
    "    simulations_list = []\n",
    "    for row in tqdm(combinations):\n",
    "        \n",
    "        mutation_rate = row[0]\n",
    "        crossover_rate = row[1]\n",
    "        \n",
    "        de_alg = DifferentialEvolutionAlgorithm(\n",
    "                                            num_epochs=5,\n",
    "                                            pop_size=1000,\n",
    "                                            chrom_length=10,\n",
    "                                            value_ranges=bound_values,\n",
    "                                            mutation_rate=0.8,\n",
    "                                            fitness_func=fitness_func_class,\n",
    "                                            verbose=True,\n",
    "                                            eval_every=10,\n",
    "                                            )\n",
    "\n",
    "        best_solutions = de_alg.fit()\n",
    "\n",
    "        dict_save = {'global_factor': mutation_rate,\n",
    "                     'local_factor': crossover_rate,\n",
    "                     'fitness_calls': de_alg.fitness_calls_list.tolist(),\n",
    "                     'best_ind_list': de_alg.best_ind_list.tolist(),\n",
    "                     'avg_ind_list': de_alg.avg_ind_list.tolist(),\n",
    "                     'best_solutions': best_solutions.tolist()\n",
    "                     }\n",
    "        simulations_list.append(dict_save)\n",
    "        \n",
    "    with open(filename, 'w') as fout:\n",
    "        json.dump(simulations_list, fout)\n",
    "\n",
    "    return\n",
    "        \n",
    "\n",
    "execute_sensitivity_analysis_de(combinations, 'simulations/de_sensitivity.json')"
   ]
  }
 ],
 "metadata": {
  "kernelspec": {
   "display_name": "deeplearning",
   "language": "python",
   "name": "python3"
  },
  "language_info": {
   "codemirror_mode": {
    "name": "ipython",
    "version": 3
   },
   "file_extension": ".py",
   "mimetype": "text/x-python",
   "name": "python",
   "nbconvert_exporter": "python",
   "pygments_lexer": "ipython3",
   "version": "3.9.18"
  },
  "orig_nbformat": 4
 },
 "nbformat": 4,
 "nbformat_minor": 2
}
